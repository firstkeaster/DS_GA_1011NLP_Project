{
 "cells": [
  {
   "cell_type": "markdown",
   "metadata": {},
   "source": [
    "## DS-GA 1011 Lab 8 Neural Machine Translation with Seq2Seq model and Attention"
   ]
  },
  {
   "cell_type": "markdown",
   "metadata": {},
   "source": [
    "Adapted from the PyTorch tutorials (https://pytorch.org/tutorials/intermediate/seq2seq_translation_tutorial.html)"
   ]
  },
  {
   "cell_type": "markdown",
   "metadata": {},
   "source": [
    "In this lab we will be teaching a neural network to translate from French to English.\n",
    "::\n",
    "\n",
    "    [KEY: > input, = target, < output]\n",
    "\n",
    "    > il est en train de peindre un tableau .\n",
    "    = he is painting a picture .\n",
    "    < he is painting a picture .\n",
    "\n",
    "    > pourquoi ne pas essayer ce vin delicieux ?\n",
    "    = why not try that delicious wine ?\n",
    "    < why not try that delicious wine ?\n",
    "\n",
    "    > elle n est pas poete mais romanciere .\n",
    "    = she is not a poet but a novelist .\n",
    "    < she not not a poet but a novelist .\n",
    "\n",
    "    > vous etes trop maigre .\n",
    "    = you re too skinny .\n",
    "    < you re all alone .\n",
    "\n",
    "... to varying degrees of success.\n",
    "\n",
    "This is made possible by the simple but powerful idea of the `sequence\n",
    "to sequence network <http://arxiv.org/abs/1409.3215>`__, in which two\n",
    "recurrent neural networks work together to transform one sequence to\n",
    "another. An encoder network condenses an input sequence into a vector,\n",
    "and a decoder network unfolds that vector into a new sequence.\n",
    "\n",
    "\n",
    "To improve upon this model we'll use an `attention\n",
    "mechanism <https://arxiv.org/abs/1409.0473>`__, which lets the decoder\n",
    "learn to focus over a specific range of the input sequence.\n",
    "\n"
   ]
  },
  {
   "cell_type": "code",
   "execution_count": 15,
   "metadata": {},
   "outputs": [],
   "source": [
    "from __future__ import unicode_literals, print_function, division\n",
    "from io import open\n",
    "import unicodedata\n",
    "import string\n",
    "import re\n",
    "import random\n",
    "\n",
    "import torch\n",
    "import torch.nn as nn\n",
    "from torch import optim\n",
    "import torch.nn.functional as F\n",
    "\n",
    "device = torch.device(\"cuda\" if torch.cuda.is_available() else \"cpu\")"
   ]
  },
  {
   "cell_type": "code",
   "execution_count": 16,
   "metadata": {},
   "outputs": [
    {
     "data": {
      "text/plain": [
       "'Tesla K80'"
      ]
     },
     "execution_count": 16,
     "metadata": {},
     "output_type": "execute_result"
    }
   ],
   "source": [
    "torch.cuda.get_device_name(0)"
   ]
  },
  {
   "cell_type": "markdown",
   "metadata": {},
   "source": [
    "## Loading Data"
   ]
  },
  {
   "cell_type": "markdown",
   "metadata": {},
   "source": [
    "Download the data from https://download.pytorch.org/tutorial/data.zip and unzip the file in the location of the notebook.\n",
    "    \n",
    "We'll use data/eng-fra.txt where each line in the file is a tab separated pair of English and French word sequence:\n",
    "\n",
    "    I am cold.    J'ai froid.\n"
   ]
  },
  {
   "cell_type": "code",
   "execution_count": 3,
   "metadata": {},
   "outputs": [
    {
     "name": "stdout",
     "output_type": "stream",
     "text": [
      "  % Total    % Received % Xferd  Average Speed   Time    Time     Time  Current\n",
      "                                 Dload  Upload   Total   Spent    Left  Speed\n",
      "100 2814k  100 2814k    0     0  3012k      0 --:--:-- --:--:-- --:--:-- 3010k\n"
     ]
    }
   ],
   "source": [
    "!curl -O https://download.pytorch.org/tutorial/data.zip"
   ]
  },
  {
   "cell_type": "markdown",
   "metadata": {},
   "source": [
    "## Preprocess Data\n",
    "\n",
    "We'll need a unique index per word to use as the inputs and targets of the networks later. To keep track of all this we will use a helper class called Lang which has word → index (word2index) and index → word (index2word) dictionaries, as well as a count of each word word2count to use to later replace rare words."
   ]
  },
  {
   "cell_type": "code",
   "execution_count": 17,
   "metadata": {},
   "outputs": [],
   "source": [
    "SOS_token = 0\n",
    "EOS_token = 1\n",
    "\n",
    "class Lang:\n",
    "    def __init__(self, name):\n",
    "        self.name = name\n",
    "        self.word2index = {}\n",
    "        self.word2count = {}\n",
    "        self.index2word = {0: \"SOS\", 1: \"EOS\"} #Start Of Sentence, End Of Sentence\n",
    "        self.n_words = 2  # Count SOS and EOS\n",
    "\n",
    "    def addSentence(self, sentence):\n",
    "        for word in sentence.split(' '):\n",
    "            self.addWord(word)\n",
    "\n",
    "    def addWord(self, word):\n",
    "        if word not in self.word2index:\n",
    "            self.word2index[word] = self.n_words\n",
    "            self.word2count[word] = 1\n",
    "            self.index2word[self.n_words] = word\n",
    "            self.n_words += 1\n",
    "        else:\n",
    "            self.word2count[word] += 1"
   ]
  },
  {
   "cell_type": "markdown",
   "metadata": {},
   "source": [
    "The files are all in Unicode, to simplify we will turn Unicode characters to ASCII, make everything lowercase, and trim most punctuation."
   ]
  },
  {
   "cell_type": "code",
   "execution_count": 18,
   "metadata": {},
   "outputs": [],
   "source": [
    "# Turn a Unicode string to plain ASCII, thanks to\n",
    "# http://stackoverflow.com/a/518232/2809427\n",
    "def unicodeToAscii(s):\n",
    "    return ''.join(\n",
    "        c for c in unicodedata.normalize('NFD', s)\n",
    "        if unicodedata.category(c) != 'Mn'\n",
    "    )\n",
    "\n",
    "# Lowercase, trim, and remove non-letter characters\n",
    "\n",
    "\n",
    "def normalizeString(s):\n",
    "    s = unicodeToAscii(s.lower().strip())\n",
    "    s = re.sub(r\"([.!?])\", r\" \\1\", s)\n",
    "    s = re.sub(r\"[^a-zA-Z.!?]+\", r\" \", s)\n",
    "    return s"
   ]
  },
  {
   "cell_type": "markdown",
   "metadata": {},
   "source": [
    "To read the data file we will split the file into lines, and then split lines into pairs. The files are all English → Other Language, so if we want to translate from Other Language → English I added the reverse flag to reverse the pairs."
   ]
  },
  {
   "cell_type": "code",
   "execution_count": 19,
   "metadata": {},
   "outputs": [],
   "source": [
    "def readLangs(lang1, lang2, reverse=False):\n",
    "    print(\"Reading lines...\")\n",
    "\n",
    "    # Read the file and split into lines\n",
    "    lines = open('data/%s-%s.txt' % (lang1, lang2), encoding='utf-8').\\\n",
    "        read().strip().split('\\n')\n",
    "\n",
    "    # Split every line into pairs and normalize\n",
    "    pairs = [[normalizeString(s) for s in l.split('\\t')] for l in lines]\n",
    "\n",
    "    # Reverse pairs, make Lang instances\n",
    "    if reverse:\n",
    "        pairs = [list(reversed(p)) for p in pairs]\n",
    "        input_lang = Lang(lang2)\n",
    "        output_lang = Lang(lang1)\n",
    "    else:\n",
    "        input_lang = Lang(lang1)\n",
    "        output_lang = Lang(lang2)\n",
    "\n",
    "    return input_lang, output_lang, pairs"
   ]
  },
  {
   "cell_type": "markdown",
   "metadata": {},
   "source": [
    "Since there are a *lot* of example sentences and we want to train\n",
    "something quickly, we'll trim the data set to only relatively short and\n",
    "simple sentences. Here the maximum length is 10 words (that includes\n",
    "ending punctuation) and we're filtering to sentences that translate to\n",
    "the form \"I am\" or \"He is\" etc. (accounting for apostrophes replaced\n",
    "earlier).\n",
    "\n",
    "\n"
   ]
  },
  {
   "cell_type": "code",
   "execution_count": 20,
   "metadata": {},
   "outputs": [],
   "source": [
    "MAX_LENGTH = 10\n",
    "\n",
    "eng_prefixes = (\n",
    "    \"i am \", \"i m \",\n",
    "    \"he is\", \"he s \",\n",
    "    \"she is\", \"she s\",\n",
    "    \"you are\", \"you re \",\n",
    "    \"we are\", \"we re \",\n",
    "    \"they are\", \"they re \"\n",
    ")\n",
    "\n",
    "\n",
    "def filterPair(p):\n",
    "    return len(p[0].split(' ')) < MAX_LENGTH and \\\n",
    "        len(p[1].split(' ')) < MAX_LENGTH and \\\n",
    "        p[1].startswith(eng_prefixes)\n",
    "\n",
    "\n",
    "def filterPairs(pairs):\n",
    "    return [pair for pair in pairs if filterPair(pair)]"
   ]
  },
  {
   "cell_type": "markdown",
   "metadata": {},
   "source": [
    "The full process for preparing the data is:\n",
    "\n",
    "-  Read text file and split into lines, split lines into pairs\n",
    "-  Normalize text, filter by length and content\n",
    "-  Make word lists from sentences in pairs\n",
    "\n",
    "\n"
   ]
  },
  {
   "cell_type": "code",
   "execution_count": 21,
   "metadata": {
    "scrolled": true
   },
   "outputs": [
    {
     "name": "stdout",
     "output_type": "stream",
     "text": [
      "Reading lines...\n",
      "Read 135842 sentence pairs\n",
      "Trimmed to 10853 sentence pairs\n",
      "Counting words...\n",
      "Counted words:\n",
      "fra 4489\n",
      "eng 2925\n",
      "['elle est inapte pour le poste .', 'she s unfit for the job .']\n"
     ]
    }
   ],
   "source": [
    "def prepareData(lang1, lang2, reverse=False):\n",
    "    input_lang, output_lang, pairs = readLangs(lang1, lang2, reverse)\n",
    "    print(\"Read %s sentence pairs\" % len(pairs))\n",
    "    pairs = filterPairs(pairs)\n",
    "    print(\"Trimmed to %s sentence pairs\" % len(pairs))\n",
    "    print(\"Counting words...\")\n",
    "    for pair in pairs:\n",
    "        input_lang.addSentence(pair[0])\n",
    "        output_lang.addSentence(pair[1])\n",
    "    print(\"Counted words:\")\n",
    "    print(input_lang.name, input_lang.n_words)\n",
    "    print(output_lang.name, output_lang.n_words)\n",
    "    return input_lang, output_lang, pairs\n",
    "\n",
    "\n",
    "input_lang, output_lang, pairs = prepareData('eng', 'fra', True)\n",
    "print(random.choice(pairs))"
   ]
  },
  {
   "cell_type": "code",
   "execution_count": 22,
   "metadata": {},
   "outputs": [
    {
     "data": {
      "text/plain": [
       "['j ai ans .', 'i m .']"
      ]
     },
     "execution_count": 22,
     "metadata": {},
     "output_type": "execute_result"
    }
   ],
   "source": [
    "pairs[0]"
   ]
  },
  {
   "cell_type": "markdown",
   "metadata": {},
   "source": [
    "The Seq2Seq Model\n",
    "=================\n",
    "\n",
    "A Recurrent Neural Network, or RNN, is a network that operates on a\n",
    "sequence and uses its own output as input for subsequent steps.\n",
    "\n",
    "A `Sequence to Sequence network <http://arxiv.org/abs/1409.3215>`__, or\n",
    "seq2seq network, or `Encoder Decoder\n",
    "network <https://arxiv.org/pdf/1406.1078v3.pdf>`__, is a model\n",
    "consisting of two RNNs called the encoder and decoder. The encoder reads\n",
    "an input sequence and outputs a single vector, and the decoder reads\n",
    "that vector to produce an output sequence.\n",
    "\n",
    "Unlike sequence prediction with a single RNN, where every input\n",
    "corresponds to an output, the seq2seq model frees us from sequence\n",
    "length and order, which makes it ideal for translation between two\n",
    "languages.\n",
    "\n",
    "Consider the sentence \"Je ne suis pas le chat noir\" → \"I am not the\n",
    "black cat\". Most of the words in the input sentence have a direct\n",
    "translation in the output sentence, but are in slightly different\n",
    "orders, e.g. \"chat noir\" and \"black cat\". Because of the \"ne/pas\"\n",
    "construction there is also one more word in the input sentence. It would\n",
    "be difficult to produce a correct translation directly from the sequence\n",
    "of input words.\n",
    "\n",
    "With a seq2seq model the encoder creates a single vector which, in the\n",
    "ideal case, encodes the \"meaning\" of the input sequence into a single\n",
    "vector — a single point in some N dimensional space of sentences.\n",
    "\n",
    "\n"
   ]
  },
  {
   "cell_type": "markdown",
   "metadata": {},
   "source": [
    "The Encoder\n",
    "-----------\n",
    "\n",
    "The encoder of a seq2seq network is a RNN that outputs some value for\n",
    "every word from the input sentence. For every input word the encoder\n",
    "outputs a vector and a hidden state, and uses the hidden state for the\n",
    "next input word."
   ]
  },
  {
   "cell_type": "code",
   "execution_count": 23,
   "metadata": {},
   "outputs": [],
   "source": [
    "class EncoderRNN(nn.Module):\n",
    "    def __init__(self, input_size, hidden_size):\n",
    "        super(EncoderRNN, self).__init__()\n",
    "        self.hidden_size = hidden_size\n",
    "\n",
    "        self.embedding = nn.Embedding(input_size, hidden_size)\n",
    "        self.gru = nn.GRU(hidden_size, hidden_size)\n",
    "\n",
    "    def forward(self, input, hidden):\n",
    "        embedded = self.embedding(input).view(1, 1, -1)\n",
    "        output = embedded\n",
    "        output, hidden = self.gru(output, hidden)\n",
    "        return output, hidden\n",
    "\n",
    "    def initHidden(self):\n",
    "        return torch.zeros(1, 1, self.hidden_size, device=device)"
   ]
  },
  {
   "cell_type": "markdown",
   "metadata": {},
   "source": [
    "The Decoder\n",
    "--------------------\n",
    "\n",
    "\n",
    "The decoder is another RNN that takes the encoder output vector(s) and outputs a sequence of words to create the translation.\n",
    "\n",
    "Decoder w/o Attention\n",
    "------------------------\n",
    "In the simplest seq2seq decoder we use only last output of the encoder. This last output is sometimes called the context vector as it encodes context from the entire sequence. This context vector is used as the initial hidden state of the decoder.\n",
    "\n",
    "At every step of decoding, the decoder is given an input token and hidden state. The initial input token is the start-of-string <SOS> token, and the first hidden state is the context vector (the encoder's last hidden state)."
   ]
  },
  {
   "cell_type": "code",
   "execution_count": 24,
   "metadata": {},
   "outputs": [],
   "source": [
    "class DecoderRNN(nn.Module):\n",
    "    def __init__(self, hidden_size, output_size):\n",
    "        super(DecoderRNN, self).__init__()\n",
    "        self.hidden_size = hidden_size\n",
    "\n",
    "        self.embedding = nn.Embedding(output_size, hidden_size)\n",
    "        self.gru = nn.GRU(hidden_size, hidden_size)\n",
    "        self.out = nn.Linear(hidden_size, output_size)\n",
    "        self.softmax = nn.LogSoftmax(dim=1)\n",
    "\n",
    "    def forward(self, input, hidden):\n",
    "        output = self.embedding(input).view(1, 1, -1)\n",
    "        output = F.relu(output)\n",
    "        output, hidden = self.gru(output, hidden)\n",
    "        output = self.softmax(self.out(output[0]))\n",
    "        return output, hidden\n",
    "\n",
    "    def initHidden(self):\n",
    "        return torch.zeros(1, 1, self.hidden_size, device=device)"
   ]
  },
  {
   "cell_type": "markdown",
   "metadata": {},
   "source": [
    "I encourage you to train and observe the results of this model, but to\n",
    "save space we'll be going straight for the gold and introducing the\n",
    "Attention Mechanism.\n",
    "\n",
    "\n"
   ]
  },
  {
   "cell_type": "markdown",
   "metadata": {},
   "source": [
    "Attention Decoder\n",
    "----------------\n",
    "\n",
    "If only the context vector is passed betweeen the encoder and decoder,\n",
    "that single vector carries the burden of encoding the entire sentence.\n",
    "\n",
    "Attention allows the decoder network to \"focus\" on a different part of\n",
    "the encoder's outputs for every step of the decoder's own outputs. First\n",
    "we calculate a set of *attention weights*. These will be multiplied by\n",
    "the encoder output vectors to create a weighted combination. The result\n",
    "(called ``attn_applied`` in the code) should contain information about\n",
    "that specific part of the input sequence, and thus help the decoder\n",
    "choose the right output words.\n",
    "\n",
    "Calculating the attention weights is done with another feed-forward\n",
    "layer ``attn``, using the decoder's input and hidden state as inputs.\n",
    "Because there are sentences of all sizes in the training data, to\n",
    "actually create and train this layer we have to choose a maximum\n",
    "sentence length (input length, for encoder outputs) that it can apply\n",
    "to. Sentences of the maximum length will use all the attention weights,\n",
    "while shorter sentences will only use the first few.\n"
   ]
  },
  {
   "cell_type": "code",
   "execution_count": null,
   "metadata": {},
   "outputs": [],
   "source": [
    "class BahdanauAttnDecoderRNN_ORG(nn.Module):\n",
    "    def __init__(self, hidden_size, output_size, n_layers=1, dropout_p=0.1):\n",
    "        super(BahdanauAttnDecoderRNN, self).__init__()\n",
    "        \n",
    "        # Define parameters\n",
    "        self.hidden_size = hidden_size\n",
    "        self.output_size = output_size\n",
    "        self.n_layers = n_layers\n",
    "        self.dropout_p = dropout_p\n",
    "        \n",
    "        # Define layers\n",
    "        self.embedding = nn.Embedding(output_size, hidden_size)\n",
    "        self.dropout = nn.Dropout(dropout_p)\n",
    "        self.attn = nn.Linear(hidden_size, hidden_size)\n",
    "        self.gru = nn.GRU(hidden_size * 2, hidden_size, n_layers, dropout=dropout_p)\n",
    "        self.out = nn.Linear(hidden_size, output_size)\n",
    "    \n",
    "    def forward(self, word_input, last_hidden, encoder_outputs):\n",
    "        # Note that we will only be running forward for a single decoder time step, but will use all encoder outputs\n",
    "        \n",
    "        # Get the embedding of the current input word (last output word)\n",
    "        word_embedded = self.embedding(word_input).view(1, 1, -1) # S=1 x B x N\n",
    "        word_embedded = self.dropout(word_embedded)\n",
    "        \n",
    "        ##############################\n",
    "        # TODO: Implement Attention  #\n",
    "        ##############################\n",
    "        rnn_input = word_embedded\n",
    "        \n",
    "        output, hidden = self.gru(rnn_input, last_hidden)\n",
    "        \n",
    "        # Final output layer\n",
    "        output = output.squeeze(0) # B x N\n",
    "        output = F.log_softmax(self.out(output))\n",
    "        \n",
    "        # Return final output, hidden state, and attention weights (for visualization)\n",
    "        return output, hidden, attn_weights"
   ]
  },
  {
   "cell_type": "code",
   "execution_count": 65,
   "metadata": {},
   "outputs": [],
   "source": [
    "class Attn(nn.Module):\n",
    "    def __init__(self, hidden_size, method='concat'):\n",
    "        super(Attn, self).__init__()\n",
    "        self.method = method\n",
    "        self.hidden_size = hidden_size\n",
    "        self.attn = nn.Linear(self.hidden_size * 2, hidden_size)\n",
    "        self.v = nn.Parameter(torch.rand(hidden_size))\n",
    "        stdv = 1. / math.sqrt(self.v.size(0))\n",
    "        self.v.data.normal_(mean=0, std=stdv)\n",
    "\n",
    "    def forward(self, hidden, encoder_outputs):\n",
    "        '''\n",
    "        :param hidden: \n",
    "            previous hidden state of the decoder, in shape (layers*directions,B,H)\n",
    "        :param encoder_outputs:\n",
    "            encoder outputs from Encoder, in shape (T,B,H)\n",
    "        :return\n",
    "            attention energies in shape (B,T)\n",
    "        '''\n",
    "        max_len = encoder_outputs.size(0)\n",
    "        this_batch_size = encoder_outputs.size(1)\n",
    "        H = hidden.repeat(max_len,1,1).transpose(0,1)\n",
    "        encoder_outputs = encoder_outputs.transpose(0,1) # [B*T*H]\n",
    "        attn_energies = self.score(H,encoder_outputs) # compute attention score\n",
    "        return F.softmax(attn_energies, 2) # normalize with softmax\n",
    "\n",
    "    def score(self, hidden, encoder_outputs):\n",
    "        #print('hl size:{}, eo size:{}'.format(hidden.size(), encoder_outputs.size()))\n",
    "        energy = F.tanh(self.attn(torch.cat([hidden, encoder_outputs.transpose(0,1).unsqueeze(0)], 2))) # [B*T*2H]->[B*T*H]\n",
    "        energy = energy.transpose(2,1) # [B*H*T]\n",
    "        v = self.v.repeat(energy.size()[0],1).unsqueeze(0) #[1*B*H]\n",
    "        #print('v size:{}, eng size:{}'.format(v.size(), energy.size()))\n",
    "        energy = torch.bmm(v,energy) # [B*1*T]\n",
    "        #return energy.squeeze(1) #[B*T]\n",
    "        return energy"
   ]
  },
  {
   "cell_type": "code",
   "execution_count": 66,
   "metadata": {},
   "outputs": [],
   "source": [
    "class BahdanauAttnDecoderRNN(nn.Module):\n",
    "    def __init__(self, hidden_size, output_size, n_layers=1, dropout_p=0.1, max_len = 10):\n",
    "        super(BahdanauAttnDecoderRNN, self).__init__()\n",
    "        \n",
    "        # Define parameters\n",
    "        self.hidden_size = hidden_size\n",
    "        self.output_size = output_size\n",
    "        self.n_layers = n_layers\n",
    "        self.dropout_p = dropout_p\n",
    "        self.max_len = max_len\n",
    "        \n",
    "        # Define layers\n",
    "        self.embedding = nn.Embedding(output_size, hidden_size)\n",
    "        self.dropout = nn.Dropout(dropout_p)\n",
    "        # self.attn = nn.Linear(hidden_size, self.max_len)\n",
    "        self.attn = Attn(hidden_size)\n",
    "        self.gru = nn.GRU(hidden_size * 2, hidden_size, n_layers, dropout=dropout_p)\n",
    "        self.out = nn.Linear(hidden_size, output_size)\n",
    "    \n",
    "    def forward(self, word_input, last_hidden, encoder_outputs):\n",
    "        # Note that we will only be running forward for a single decoder time step, but will use all encoder outputs\n",
    "        \n",
    "        # Get the embedding of the current input word (last output word)\n",
    "        #print('wi size:{}'.format(word_input.size()))\n",
    "        word_embedded = self.embedding(word_input).view(1, 1, -1) # S=1 x B x N\n",
    "        word_embedded = self.dropout(word_embedded)\n",
    "        #print('we size:{}, lh size:{}, enc_out size:{}'.format(word_embedded.size(), last_hidden.size(), encoder_outputs.size()))\n",
    "        ##############################\n",
    "        # TODO: Implement Attention  #\n",
    "        ##############################\n",
    "        attn_weights = self.attn(last_hidden[-1], encoder_outputs )\n",
    "        #print('wt size:{}, eo size:{}'.format(attn_weights.size(), encoder_outputs.size()))\n",
    "        attn_applied = attn_weights.bmm(encoder_outputs.unsqueeze(0))  # (B,1,V)\n",
    "        attn_applied = attn_applied.transpose(0, 1)\n",
    "        #print('we size:{}, lh size:{}, aa size:{}'.format(word_embedded.size(), last_hidden.size(), attn_applied.size()))\n",
    "        rnn_input = torch.cat((word_embedded, attn_applied), 2)\n",
    "        \n",
    "        output, hidden = self.gru(rnn_input, last_hidden)\n",
    "        \n",
    "        # Final output layer\n",
    "        output = output.squeeze(0) # B x N\n",
    "        output = F.log_softmax(self.out(output))\n",
    "        \n",
    "        # Return final output, hidden state, and attention weights (for visualization)\n",
    "        return output, hidden, attn_weights"
   ]
  },
  {
   "cell_type": "markdown",
   "metadata": {},
   "source": [
    "\n",
    "\n",
    "Training\n",
    "========\n",
    "\n",
    "Preparing Training Data\n",
    "-----------------------\n",
    "\n",
    "To train, for each pair we will need an input tensor (indexes of the\n",
    "words in the input sentence) and target tensor (indexes of the words in\n",
    "the target sentence). While creating these vectors we will append the\n",
    "EOS token to both sequences.\n",
    "\n",
    "\n"
   ]
  },
  {
   "cell_type": "code",
   "execution_count": 26,
   "metadata": {},
   "outputs": [],
   "source": [
    "def indexesFromSentence(lang, sentence):\n",
    "    return [lang.word2index[word] for word in sentence.split(' ')]\n",
    "\n",
    "\n",
    "def tensorFromSentence(lang, sentence):\n",
    "    indexes = indexesFromSentence(lang, sentence)\n",
    "    indexes.append(EOS_token)\n",
    "    return torch.tensor(indexes, dtype=torch.long, device=device).view(-1, 1)\n",
    "\n",
    "\n",
    "def tensorsFromPair(pair):\n",
    "    input_tensor = tensorFromSentence(input_lang, pair[0])\n",
    "    target_tensor = tensorFromSentence(output_lang, pair[1])\n",
    "    return (input_tensor, target_tensor)"
   ]
  },
  {
   "cell_type": "markdown",
   "metadata": {},
   "source": [
    "Training the Model\n",
    "------------------\n",
    "\n",
    "To train we run the input sentence through the encoder, and keep track\n",
    "of every output and the latest hidden state. Then the decoder is given\n",
    "the ``<SOS>`` token as its first input, and the last hidden state of the\n",
    "encoder as its first hidden state.\n",
    "\n",
    "**\"Teacher Forcing\"**, or maximum likelihood sampling, means using the real target outputs as each next input when training. The alternative is using the decoder's own guess as the next input. Using teacher forcing may cause the network to converge faster, but when the trained network is exploited, it may exhibit instability.\n",
    "\n",
    "You can observe outputs of teacher-forced networks that read with coherent grammar but wander far from the correct translation - you could think of it as having learned how to listen to the teacher's instructions, without learning how to venture out on its own.\n",
    "\n",
    "The solution to the teacher-forcing \"problem\" is known as [Scheduled Sampling](https://arxiv.org/abs/1506.03099), which simply alternates between using the target values and predicted values when training. We will randomly choose to use teacher forcing with an if statement while training - sometimes we'll feed use real target as the input (ignoring the decoder's output), sometimes we'll use the decoder's output.\n",
    "\n",
    "\n",
    "Because of the freedom PyTorch's autograd gives us, we can randomly\n",
    "choose to use teacher forcing or not with a simple if statement. Turn\n",
    "``teacher_forcing_ratio`` up to use more of it.\n",
    "\n",
    "\n"
   ]
  },
  {
   "cell_type": "code",
   "execution_count": 27,
   "metadata": {},
   "outputs": [],
   "source": [
    "teacher_forcing_ratio = 0.5\n",
    "\n",
    "\n",
    "def train(input_tensor, target_tensor, encoder, decoder, encoder_optimizer, decoder_optimizer, criterion, max_length=MAX_LENGTH):\n",
    "    encoder_hidden = encoder.initHidden()\n",
    "\n",
    "    encoder_optimizer.zero_grad()\n",
    "    decoder_optimizer.zero_grad()\n",
    "\n",
    "    input_length = input_tensor.size(0)\n",
    "    target_length = target_tensor.size(0)\n",
    "\n",
    "    encoder_outputs = torch.zeros(max_length, encoder.hidden_size, device=device)\n",
    "\n",
    "    loss = 0\n",
    "\n",
    "    for ei in range(input_length):\n",
    "        encoder_output, encoder_hidden = encoder(\n",
    "            input_tensor[ei], encoder_hidden)\n",
    "        encoder_outputs[ei] = encoder_output[0, 0]\n",
    "\n",
    "    decoder_input = torch.tensor([[SOS_token]], device=device)\n",
    "\n",
    "    decoder_hidden = encoder_hidden\n",
    "\n",
    "    use_teacher_forcing = True if random.random() < teacher_forcing_ratio else False\n",
    "\n",
    "    if use_teacher_forcing:\n",
    "        # Teacher forcing: Feed the target as the next input\n",
    "        for di in range(target_length):\n",
    "            decoder_output, decoder_hidden, decoder_attention = decoder(\n",
    "                decoder_input, decoder_hidden, encoder_outputs)\n",
    "            loss += criterion(decoder_output, target_tensor[di])\n",
    "            decoder_input = target_tensor[di]  # Teacher forcing\n",
    "\n",
    "    else:\n",
    "        # Without teacher forcing: use its own predictions as the next input\n",
    "        for di in range(target_length):\n",
    "            decoder_output, decoder_hidden, decoder_attention = decoder(\n",
    "                decoder_input, decoder_hidden, encoder_outputs)\n",
    "            topv, topi = decoder_output.topk(1)\n",
    "            decoder_input = topi.squeeze().detach()  # detach from history as input\n",
    "\n",
    "            loss += criterion(decoder_output, target_tensor[di])\n",
    "            if decoder_input.item() == EOS_token:\n",
    "                break\n",
    "\n",
    "    loss.backward()\n",
    "\n",
    "    encoder_optimizer.step()\n",
    "    decoder_optimizer.step()\n",
    "\n",
    "    return loss.item() / target_length"
   ]
  },
  {
   "cell_type": "markdown",
   "metadata": {},
   "source": [
    "This is a helper function to print time elapsed and estimated time\n",
    "remaining given the current time and progress %.\n",
    "\n",
    "\n"
   ]
  },
  {
   "cell_type": "code",
   "execution_count": 28,
   "metadata": {},
   "outputs": [],
   "source": [
    "import time\n",
    "import math\n",
    "\n",
    "\n",
    "def asMinutes(s):\n",
    "    m = math.floor(s / 60)\n",
    "    s -= m * 60\n",
    "    return '%dm %ds' % (m, s)\n",
    "\n",
    "\n",
    "def timeSince(since, percent):\n",
    "    now = time.time()\n",
    "    s = now - since\n",
    "    es = s / (percent)\n",
    "    rs = es - s\n",
    "    return '%s (- %s)' % (asMinutes(s), asMinutes(rs))"
   ]
  },
  {
   "cell_type": "markdown",
   "metadata": {},
   "source": [
    "The whole training process looks like this:\n",
    "\n",
    "-  Start a timer\n",
    "-  Initialize optimizers and criterion\n",
    "-  Create set of training pairs\n",
    "-  Start empty losses array for plotting\n",
    "\n",
    "Then we call ``train`` many times and occasionally print the progress (%\n",
    "of examples, time so far, estimated time) and average loss.\n",
    "\n",
    "\n"
   ]
  },
  {
   "cell_type": "code",
   "execution_count": 29,
   "metadata": {},
   "outputs": [],
   "source": [
    "def trainIters(encoder, decoder, n_iters, print_every=1000, plot_every=100, learning_rate=0.01):\n",
    "    start = time.time()\n",
    "    plot_losses = []\n",
    "    print_loss_total = 0  # Reset every print_every\n",
    "    plot_loss_total = 0  # Reset every plot_every\n",
    "\n",
    "    encoder_optimizer = optim.SGD(encoder.parameters(), lr=learning_rate)\n",
    "    decoder_optimizer = optim.SGD(decoder.parameters(), lr=learning_rate)\n",
    "    training_pairs = [tensorsFromPair(random.choice(pairs))\n",
    "                      for i in range(n_iters)]\n",
    "    criterion = nn.NLLLoss()\n",
    "\n",
    "    for iter in range(1, n_iters + 1):\n",
    "        training_pair = training_pairs[iter - 1]\n",
    "        input_tensor = training_pair[0]\n",
    "        target_tensor = training_pair[1]\n",
    "\n",
    "        loss = train(input_tensor, target_tensor, encoder,\n",
    "                     decoder, encoder_optimizer, decoder_optimizer, criterion)\n",
    "        print_loss_total += loss\n",
    "        plot_loss_total += loss\n",
    "\n",
    "        if iter % print_every == 0:\n",
    "            print_loss_avg = print_loss_total / print_every\n",
    "            print_loss_total = 0\n",
    "            print('%s (%d %d%%) %.4f' % (timeSince(start, iter / n_iters),\n",
    "                                         iter, iter / n_iters * 100, print_loss_avg))\n",
    "\n",
    "        if iter % plot_every == 0:\n",
    "            plot_loss_avg = plot_loss_total / plot_every\n",
    "            plot_losses.append(plot_loss_avg)\n",
    "            plot_loss_total = 0\n",
    "\n",
    "    showPlot(plot_losses)"
   ]
  },
  {
   "cell_type": "markdown",
   "metadata": {},
   "source": [
    "Plotting results\n",
    "----------------\n",
    "\n",
    "Plotting is done with matplotlib, using the array of loss values\n",
    "``plot_losses`` saved while training.\n",
    "\n",
    "\n"
   ]
  },
  {
   "cell_type": "code",
   "execution_count": 30,
   "metadata": {},
   "outputs": [],
   "source": [
    "import matplotlib.pyplot as plt\n",
    "plt.switch_backend('agg')\n",
    "import matplotlib.ticker as ticker\n",
    "import numpy as np\n",
    "%matplotlib inline\n",
    "\n",
    "def showPlot(points):\n",
    "    plt.figure()\n",
    "    fig, ax = plt.subplots()\n",
    "    # this locator puts ticks at regular intervals\n",
    "    loc = ticker.MultipleLocator(base=0.2)\n",
    "    ax.yaxis.set_major_locator(loc)\n",
    "    plt.plot(points)"
   ]
  },
  {
   "cell_type": "markdown",
   "metadata": {},
   "source": [
    "Evaluation\n",
    "==========\n",
    "\n",
    "Evaluation is mostly the same as training, but there are no targets so\n",
    "we simply feed the decoder's predictions back to itself for each step.\n",
    "Every time it predicts a word we add it to the output string, and if it\n",
    "predicts the EOS token we stop there. We also store the decoder's\n",
    "attention outputs for display later.\n",
    "\n",
    "\n"
   ]
  },
  {
   "cell_type": "code",
   "execution_count": 31,
   "metadata": {},
   "outputs": [],
   "source": [
    "def evaluate(encoder, decoder, sentence, max_length=MAX_LENGTH):\n",
    "    \"\"\"\n",
    "    Function that generate translation.\n",
    "    First, feed the source sentence into the encoder and obtain the hidden states from encoder.\n",
    "    Secondly, feed the hidden states into the decoder and unfold the outputs from the decoder.\n",
    "    Lastly, for each outputs from the decoder, collect the corresponding words in the target language's vocabulary.\n",
    "    And collect the attention for each output words.\n",
    "    @param encoder: the encoder network\n",
    "    @param decoder: the decoder network\n",
    "    @param sentence: string, a sentence in source language to be translated\n",
    "    @param max_length: the max # of words that the decoder can return\n",
    "    @output decoded_words: a list of words in target language\n",
    "    @output decoder_attentions: a list of vector, each of which sums up to 1.0\n",
    "    \"\"\"    \n",
    "    # process input sentence\n",
    "    with torch.no_grad():\n",
    "        input_tensor = tensorFromSentence(input_lang, sentence)\n",
    "        input_length = input_tensor.size()[0]\n",
    "        # encode the source lanugage\n",
    "        encoder_hidden = encoder.initHidden()\n",
    "\n",
    "        encoder_outputs = torch.zeros(max_length, encoder.hidden_size, device=device)\n",
    "\n",
    "        for ei in range(input_length):\n",
    "            encoder_output, encoder_hidden = encoder(input_tensor[ei],\n",
    "                                                     encoder_hidden)\n",
    "            encoder_outputs[ei] += encoder_output[0, 0]\n",
    "\n",
    "        decoder_input = torch.tensor([[SOS_token]], device=device)  # SOS\n",
    "        # decode the context vector\n",
    "        decoder_hidden = encoder_hidden # decoder starts from the last encoding sentence\n",
    "        # output of this function\n",
    "        decoded_words = []\n",
    "        decoder_attentions = torch.zeros(max_length, max_length)\n",
    "\n",
    "        for di in range(max_length):\n",
    "            # for each time step, the decoder network takes two inputs: previous outputs and the previous hidden states\n",
    "            decoder_output, decoder_hidden, decoder_attention = decoder(\n",
    "                decoder_input, decoder_hidden, encoder_outputs)\n",
    "            \n",
    "            # hint: print out decoder_output and decoder_attention\n",
    "            # TODO: add your code here to populate decoded_words and decoder_attentions\n",
    "            # TODO: do this in 2 ways discussed in class: greedy & beam_search\n",
    "            # ## list(torch.tensor([1,3,4]).numpy()).index(max([1,3,4]))\n",
    "            # outSoftMax = list(decoder_output.cpu().numpy())\n",
    "            # outPrint = output_lang.index2word[outSoftMax.index(max(outSoftMax))]\n",
    "            # print(\"decOut:{}, decAtt:{}\".format(outPrint, \\\n",
    "            #                                     decoder_attention))\n",
    "            # END TO DO\n",
    "            decoder_attentions[di] = decoder_attention.data\n",
    "            topv, topi = decoder_output.data.topk(1)\n",
    "            if topi.item() == EOS_token:\n",
    "                decoded_words.append('<EOS>')\n",
    "                break\n",
    "            else:\n",
    "                decoded_words.append(output_lang.index2word[topi.item()])\n",
    "            \n",
    "            decoder_input = topi.squeeze().detach()\n",
    "\n",
    "        return decoded_words, decoder_attentions[:di + 1]"
   ]
  },
  {
   "cell_type": "markdown",
   "metadata": {},
   "source": [
    "We can evaluate random sentences from the training set and print out the\n",
    "input, target, and output to make some subjective quality judgements:\n",
    "\n",
    "\n"
   ]
  },
  {
   "cell_type": "code",
   "execution_count": 32,
   "metadata": {},
   "outputs": [],
   "source": [
    "def evaluateRandomly(encoder, decoder, n=10):\n",
    "    \"\"\"\n",
    "    Randomly select a English sentence from the dataset and try to produce its French translation.\n",
    "    Note that you need a correct implementation of evaluate() in order to make this function work.\n",
    "    \"\"\"    \n",
    "    for i in range(n):\n",
    "        pair = random.choice(pairs)\n",
    "        print('>', pair[0])\n",
    "        print('=', pair[1])\n",
    "        output_words, attentions = evaluate(encoder, decoder, pair[0])\n",
    "        output_sentence = ' '.join(output_words)\n",
    "        print('<', output_sentence)\n",
    "        print('')"
   ]
  },
  {
   "cell_type": "markdown",
   "metadata": {},
   "source": [
    "Training and Evaluating\n",
    "=======================\n",
    "\n",
    "With all these helper functions in place (it looks like extra work, but\n",
    "it makes it easier to run multiple experiments) we can actually\n",
    "initialize a network and start training.\n",
    "\n",
    "Remember that the input sentences were heavily filtered. For this small\n",
    "dataset we can use relatively small networks of 256 hidden nodes and a\n",
    "single GRU layer. After about 40 minutes on a MacBook CPU we'll get some\n",
    "reasonable results.\n",
    "\n",
    ".. Note::\n",
    "   If you run this notebook you can train, interrupt the kernel,\n",
    "   evaluate, and continue training later. Comment out the lines where the\n",
    "   encoder and decoder are initialized and run ``trainIters`` again.\n",
    "\n",
    "\n"
   ]
  },
  {
   "cell_type": "code",
   "execution_count": 33,
   "metadata": {},
   "outputs": [
    {
     "data": {
      "text/plain": [
       "2"
      ]
     },
     "execution_count": 33,
     "metadata": {},
     "output_type": "execute_result"
    }
   ],
   "source": [
    "list(torch.tensor([1,3,4]).numpy()).index(max([1,3,4]))"
   ]
  },
  {
   "cell_type": "code",
   "execution_count": 67,
   "metadata": {
    "scrolled": true
   },
   "outputs": [
    {
     "name": "stderr",
     "output_type": "stream",
     "text": [
      "/beegfs/fs1520/pytorch_gpu/py3.6.3/lib/python3.6/site-packages/ipykernel_launcher.py:42: UserWarning: Implicit dimension choice for log_softmax has been deprecated. Change the call to include dim=X as an argument.\n"
     ]
    },
    {
     "name": "stdout",
     "output_type": "stream",
     "text": [
      "2m 24s (- 33m 49s) (5000 6%) 2.8901\n",
      "4m 44s (- 30m 47s) (10000 13%) 2.2934\n",
      "7m 5s (- 28m 22s) (15000 20%) 1.9312\n",
      "9m 27s (- 25m 59s) (20000 26%) 1.6901\n",
      "11m 47s (- 23m 35s) (25000 33%) 1.4467\n",
      "14m 8s (- 21m 12s) (30000 40%) 1.2685\n",
      "16m 29s (- 18m 50s) (35000 46%) 1.1611\n",
      "18m 50s (- 16m 29s) (40000 53%) 1.0092\n",
      "21m 12s (- 14m 8s) (45000 60%) 0.9089\n",
      "23m 33s (- 11m 46s) (50000 66%) 0.7947\n",
      "25m 54s (- 9m 25s) (55000 73%) 0.7130\n",
      "28m 16s (- 7m 4s) (60000 80%) 0.6668\n",
      "30m 39s (- 4m 42s) (65000 86%) 0.5805\n",
      "33m 1s (- 2m 21s) (70000 93%) 0.5279\n",
      "35m 23s (- 0m 0s) (75000 100%) 0.4943\n"
     ]
    },
    {
     "data": {
      "text/plain": [
       "<matplotlib.figure.Figure at 0x2b4eeec90358>"
      ]
     },
     "metadata": {},
     "output_type": "display_data"
    },
    {
     "data": {
      "image/png": "[encoded data removed]",
      "text/plain": [
       "<matplotlib.figure.Figure at 0x2b4f56ebc3c8>"
      ]
     },
     "metadata": {
      "needs_background": "light"
     },
     "output_type": "display_data"
    }
   ],
   "source": [
    "hidden_size = 256\n",
    "encoder1 = EncoderRNN(input_lang.n_words, hidden_size).to(device)\n",
    "# attn_decoder1 = AttnDecoderRNN(hidden_size, output_lang.n_words, dropout_p=0.1).to(device)\n",
    "attn_decoder1 = BahdanauAttnDecoderRNN(hidden_size, output_lang.n_words, n_layers=1, dropout_p=0.1).to(device)\n",
    "\n",
    "##UNCOMMENT TO TRAIN THE MODEL\n",
    "trainIters(encoder1, attn_decoder1, 75000, print_every=5000)\n",
    "\n",
    "# encoder1.load_state_dict(torch.load(\"nmt_models/encoder.pth\", map_location = 'cpu'))\n",
    "# attn_decoder1.load_state_dict(torch.load(\"nmt_models/attn_decoder.pth\", map_location = 'cpu'))"
   ]
  },
  {
   "cell_type": "code",
   "execution_count": 230,
   "metadata": {},
   "outputs": [],
   "source": [
    "torch.save(encoder1.state_dict(), \"encoder.pth\")\n",
    "torch.save(attn_decoder1.state_dict(), \"attn_decoder.pth\")"
   ]
  },
  {
   "cell_type": "code",
   "execution_count": 68,
   "metadata": {},
   "outputs": [
    {
     "name": "stdout",
     "output_type": "stream",
     "text": [
      "> vous etes veinarde .\n",
      "= you re in luck .\n",
      "decOut:SOS, decAtt:tensor([[[ 0.0014,  0.1204,  0.5611,  0.2852,  0.0103,  0.0043,  0.0043,\n",
      "           0.0043,  0.0043,  0.0043]]], device='cuda:0')\n",
      "decOut:SOS, decAtt:tensor([[[ 1.1874e-05,  2.3368e-06,  7.6183e-01,  2.3588e-01,  8.7133e-04,\n",
      "           2.7941e-04,  2.7941e-04,  2.7941e-04,  2.7941e-04,  2.7941e-04]]], device='cuda:0')\n",
      "decOut:SOS, decAtt:tensor([[[ 1.2748e-06,  2.5934e-09,  6.6838e-01,  3.3120e-01,  1.9509e-04,\n",
      "           4.5552e-05,  4.5552e-05,  4.5552e-05,  4.5552e-05,  4.5552e-05]]], device='cuda:0')\n",
      "decOut:SOS, decAtt:tensor([[[ 2.2544e-09,  4.5329e-09,  9.7143e-02,  8.8653e-01,  1.3057e-02,\n",
      "           6.5481e-04,  6.5481e-04,  6.5481e-04,  6.5481e-04,  6.5481e-04]]], device='cuda:0')\n",
      "decOut:SOS, decAtt:tensor([[[ 8.4271e-08,  2.1982e-05,  8.4351e-02,  8.3955e-01,  7.2772e-02,\n",
      "           6.6157e-04,  6.6157e-04,  6.6157e-04,  6.6157e-04,  6.6157e-04]]], device='cuda:0')\n",
      "decOut:SOS, decAtt:tensor([[[ 6.7194e-06,  2.1062e-04,  3.0073e-01,  5.4668e-01,  1.2615e-01,\n",
      "           5.2437e-03,  5.2437e-03,  5.2437e-03,  5.2437e-03,  5.2437e-03]]], device='cuda:0')\n",
      "decOut:SOS, decAtt:tensor([[[ 7.8601e-06,  6.3077e-05,  1.1446e-01,  7.6589e-01,  9.9769e-02,\n",
      "           3.9624e-03,  3.9624e-03,  3.9624e-03,  3.9624e-03,  3.9624e-03]]], device='cuda:0')\n",
      "decOut:SOS, decAtt:tensor([[[ 7.0056e-06,  1.5651e-04,  2.1499e-01,  5.1995e-01,  2.4420e-01,\n",
      "           4.1416e-03,  4.1416e-03,  4.1416e-03,  4.1416e-03,  4.1416e-03]]], device='cuda:0')\n",
      "decOut:SOS, decAtt:tensor([[[ 0.0000,  0.0001,  0.0971,  0.6696,  0.2038,  0.0059,  0.0059,\n",
      "           0.0059,  0.0059,  0.0059]]], device='cuda:0')\n",
      "decOut:SOS, decAtt:tensor([[[ 8.7580e-06,  1.0698e-04,  1.8343e-01,  6.2625e-01,  1.7706e-01,\n",
      "           2.6296e-03,  2.6296e-03,  2.6296e-03,  2.6296e-03,  2.6296e-03]]], device='cuda:0')\n",
      "< \n",
      "\n",
      "> tu es le plus vieux .\n",
      "= you re the oldest .\n",
      "decOut:SOS, decAtt:tensor([[[ 0.0064,  0.0589,  0.6815,  0.0561,  0.1336,  0.0428,  0.0003,\n",
      "           0.0068,  0.0068,  0.0068]]], device='cuda:0')\n",
      "decOut:SOS, decAtt:tensor([[[ 5.2236e-05,  1.2240e-06,  8.7752e-01,  1.9433e-02,  7.3663e-02,\n",
      "           2.7529e-02,  6.1419e-05,  5.7923e-04,  5.7923e-04,  5.7923e-04]]], device='cuda:0')\n",
      "decOut:SOS, decAtt:tensor([[[ 1.2137e-05,  1.7938e-07,  7.6832e-01,  5.8978e-02,  1.2603e-01,\n",
      "           4.5574e-02,  9.0327e-05,  3.3064e-04,  3.3064e-04,  3.3064e-04]]], device='cuda:0')\n",
      "decOut:SOS, decAtt:tensor([[[ 4.1683e-08,  1.5046e-09,  2.7013e-05,  5.0927e-02,  6.2943e-01,\n",
      "           3.1935e-01,  2.5282e-04,  3.6223e-06,  3.6223e-06,  3.6223e-06]]], device='cuda:0')\n",
      "decOut:SOS, decAtt:tensor([[[ 4.8554e-09,  4.2710e-08,  1.2604e-06,  3.3264e-03,  1.5670e-01,\n",
      "           8.3817e-01,  1.7964e-03,  1.8699e-07,  1.8699e-07,  1.8699e-07]]], device='cuda:0')\n",
      "decOut:SOS, decAtt:tensor([[[ 6.1097e-07,  8.2157e-07,  1.2504e-04,  1.5927e-03,  1.3795e-01,\n",
      "           8.5571e-01,  4.4836e-03,  4.5852e-05,  4.5852e-05,  4.5852e-05]]], device='cuda:0')\n",
      "decOut:SOS, decAtt:tensor([[[ 4.1921e-06,  2.8356e-06,  2.9673e-04,  1.2903e-02,  1.7171e-01,\n",
      "           7.9439e-01,  1.8891e-02,  6.0018e-04,  6.0018e-04,  6.0018e-04]]], device='cuda:0')\n",
      "decOut:SOS, decAtt:tensor([[[ 0.0000,  0.0000,  0.0005,  0.0156,  0.2137,  0.7514,  0.0171,\n",
      "           0.0006,  0.0006,  0.0006]]], device='cuda:0')\n",
      "decOut:SOS, decAtt:tensor([[[ 3.4068e-05,  8.4591e-06,  4.4288e-04,  2.8260e-02,  1.6379e-01,\n",
      "           7.2363e-01,  7.9354e-02,  1.4933e-03,  1.4933e-03,  1.4933e-03]]], device='cuda:0')\n",
      "decOut:SOS, decAtt:tensor([[[ 0.0000,  0.0000,  0.0007,  0.0187,  0.2070,  0.7523,  0.0196,\n",
      "           0.0005,  0.0005,  0.0005]]], device='cuda:0')\n",
      "< \n",
      "\n",
      "> tu as raison .\n",
      "= you re correct .\n",
      "decOut:SOS, decAtt:tensor([[[ 0.0137,  0.4874,  0.2983,  0.1593,  0.0024,  0.0078,  0.0078,\n",
      "           0.0078,  0.0078,  0.0078]]], device='cuda:0')\n",
      "decOut:SOS, decAtt:tensor([[[ 0.0002,  0.0357,  0.6101,  0.3474,  0.0015,  0.0010,  0.0010,\n",
      "           0.0010,  0.0010,  0.0010]]], device='cuda:0')\n",
      "decOut:SOS, decAtt:tensor([[[ 0.0001,  0.0040,  0.6272,  0.3665,  0.0007,  0.0003,  0.0003,\n",
      "           0.0003,  0.0003,  0.0003]]], device='cuda:0')\n",
      "decOut:SOS, decAtt:tensor([[[ 2.2071e-06,  1.2714e-07,  1.2126e-01,  8.3161e-01,  3.4398e-02,\n",
      "           2.5450e-03,  2.5450e-03,  2.5450e-03,  2.5450e-03,  2.5450e-03]]], device='cuda:0')\n",
      "decOut:SOS, decAtt:tensor([[[ 0.0004,  0.0029,  0.1014,  0.2637,  0.1930,  0.0877,  0.0877,\n",
      "           0.0877,  0.0877,  0.0877]]], device='cuda:0')\n",
      "decOut:SOS, decAtt:tensor([[[ 0.0015,  0.0039,  0.0349,  0.1295,  0.4450,  0.0770,  0.0770,\n",
      "           0.0770,  0.0770,  0.0770]]], device='cuda:0')\n",
      "decOut:SOS, decAtt:tensor([[[ 0.0004,  0.0077,  0.1643,  0.3958,  0.1131,  0.0637,  0.0637,\n",
      "           0.0637,  0.0637,  0.0637]]], device='cuda:0')\n",
      "decOut:SOS, decAtt:tensor([[[ 0.0015,  0.0102,  0.0990,  0.3079,  0.2844,  0.0594,  0.0594,\n",
      "           0.0594,  0.0594,  0.0594]]], device='cuda:0')\n",
      "decOut:SOS, decAtt:tensor([[[ 0.0001,  0.0076,  0.1953,  0.5224,  0.1495,  0.0250,  0.0250,\n",
      "           0.0250,  0.0250,  0.0250]]], device='cuda:0')\n",
      "decOut:SOS, decAtt:tensor([[[ 0.0002,  0.0105,  0.2115,  0.5667,  0.1072,  0.0208,  0.0208,\n",
      "           0.0208,  0.0208,  0.0208]]], device='cuda:0')\n",
      "< \n",
      "\n",
      "> je lis le new york times .\n",
      "= i m reading the new york times .\n",
      "decOut:SOS, decAtt:tensor([[[ 0.1609,  0.7860,  0.0219,  0.0227,  0.0020,  0.0015,  0.0010,\n",
      "           0.0001,  0.0019,  0.0019]]], device='cuda:0')\n",
      "decOut:SOS, decAtt:tensor([[[ 0.0012,  0.9812,  0.0061,  0.0079,  0.0025,  0.0005,  0.0003,\n",
      "           0.0000,  0.0001,  0.0001]]], device='cuda:0')\n",
      "decOut:SOS, decAtt:tensor([[[ 0.0002,  0.9877,  0.0042,  0.0058,  0.0014,  0.0003,  0.0003,\n",
      "           0.0000,  0.0000,  0.0000]]], device='cuda:0')\n",
      "decOut:SOS, decAtt:tensor([[[ 0.0000,  0.0267,  0.1269,  0.4697,  0.3412,  0.0166,  0.0185,\n",
      "           0.0001,  0.0000,  0.0000]]], device='cuda:0')\n",
      "decOut:SOS, decAtt:tensor([[[ 1.7721e-10,  5.0692e-08,  9.3370e-06,  1.6763e-02,  6.2761e-01,\n",
      "           2.2461e-01,  1.3099e-01,  1.5167e-05,  2.4398e-08,  2.4398e-08]]], device='cuda:0')\n",
      "decOut:SOS, decAtt:tensor([[[ 3.2476e-09,  3.2918e-07,  5.8763e-06,  7.1416e-04,  7.2604e-01,\n",
      "           3.1340e-02,  2.4190e-01,  3.1873e-06,  8.5485e-09,  8.5485e-09]]], device='cuda:0')\n",
      "decOut:SOS, decAtt:tensor([[[ 5.5899e-08,  5.3966e-06,  1.6480e-05,  3.0784e-04,  2.7958e-01,\n",
      "           2.0194e-02,  6.9985e-01,  4.4194e-05,  1.8370e-07,  1.8370e-07]]], device='cuda:0')\n",
      "decOut:SOS, decAtt:tensor([[[ 3.0037e-07,  3.8517e-05,  1.5782e-04,  2.0000e-03,  2.8349e-01,\n",
      "           6.1117e-02,  6.5304e-01,  1.5204e-04,  2.6474e-06,  2.6474e-06]]], device='cuda:0')\n",
      "decOut:SOS, decAtt:tensor([[[ 8.3405e-07,  2.1677e-04,  6.9522e-04,  1.9087e-02,  5.3679e-01,\n",
      "           8.2538e-02,  3.6024e-01,  3.9682e-04,  1.7517e-05,  1.7517e-05]]], device='cuda:0')\n",
      "decOut:SOS, decAtt:tensor([[[ 1.7306e-06,  4.9293e-04,  9.8693e-04,  4.2862e-02,  5.1666e-01,\n",
      "           1.3585e-01,  3.0013e-01,  2.8281e-03,  9.5456e-05,  9.5456e-05]]], device='cuda:0')\n",
      "< \n",
      "\n",
      "> je suis un homme solitaire .\n",
      "= i m a lonely man .\n",
      "decOut:SOS, decAtt:tensor([[[ 0.1881,  0.0542,  0.4992,  0.2184,  0.0191,  0.0050,  0.0005,\n",
      "           0.0052,  0.0052,  0.0052]]], device='cuda:0')\n",
      "decOut:SOS, decAtt:tensor([[[ 0.0105,  0.0001,  0.7190,  0.2602,  0.0065,  0.0019,  0.0001,\n",
      "           0.0006,  0.0006,  0.0006]]], device='cuda:0')\n",
      "decOut:SOS, decAtt:tensor([[[ 3.1062e-04,  2.4164e-06,  6.1725e-01,  3.7299e-01,  6.7155e-03,\n",
      "           2.3106e-03,  2.6533e-05,  1.3101e-04,  1.3101e-04,  1.3101e-04]]], device='cuda:0')\n",
      "decOut:SOS, decAtt:tensor([[[ 4.0818e-08,  3.2771e-09,  8.8846e-05,  6.7019e-02,  7.0269e-01,\n",
      "           2.3014e-01,  5.7983e-05,  1.8404e-06,  1.8404e-06,  1.8404e-06]]], device='cuda:0')\n",
      "decOut:SOS, decAtt:tensor([[[ 8.5397e-10,  9.0878e-10,  1.0687e-07,  4.0103e-05,  4.7586e-01,\n",
      "           5.2403e-01,  6.8663e-05,  6.6896e-08,  6.6896e-08,  6.6896e-08]]], device='cuda:0')\n",
      "decOut:SOS, decAtt:tensor([[[ 6.7426e-06,  1.5957e-06,  5.0989e-05,  2.9333e-04,  7.0311e-02,\n",
      "           9.2515e-01,  4.0585e-03,  4.3102e-05,  4.3102e-05,  4.3102e-05]]], device='cuda:0')\n",
      "decOut:SOS, decAtt:tensor([[[ 0.0001,  0.0000,  0.0003,  0.0008,  0.1937,  0.7901,  0.0134,\n",
      "           0.0005,  0.0005,  0.0005]]], device='cuda:0')\n",
      "decOut:SOS, decAtt:tensor([[[ 6.2077e-05,  8.1729e-06,  3.5466e-04,  1.1563e-03,  1.4436e-01,\n",
      "           8.2571e-01,  2.6547e-02,  5.9948e-04,  5.9948e-04,  5.9948e-04]]], device='cuda:0')\n",
      "decOut:SOS, decAtt:tensor([[[ 0.0001,  0.0000,  0.0004,  0.0017,  0.1630,  0.8259,  0.0075,\n",
      "           0.0005,  0.0005,  0.0005]]], device='cuda:0')\n",
      "decOut:SOS, decAtt:tensor([[[ 0.0001,  0.0000,  0.0004,  0.0013,  0.1403,  0.8345,  0.0207,\n",
      "           0.0009,  0.0009,  0.0009]]], device='cuda:0')\n",
      "< \n",
      "\n",
      "> j ai la frousse .\n",
      "= i m jittery .\n",
      "decOut:SOS, decAtt:tensor([[[ 0.2312,  0.4908,  0.1371,  0.0955,  0.0419,  0.0003,  0.0008,\n",
      "           0.0008,  0.0008,  0.0008]]], device='cuda:0')\n",
      "decOut:SOS, decAtt:tensor([[[ 0.0318,  0.0009,  0.3799,  0.4527,  0.1342,  0.0000,  0.0001,\n",
      "           0.0001,  0.0001,  0.0001]]], device='cuda:0')\n",
      "decOut:SOS, decAtt:tensor([[[ 0.0045,  0.0000,  0.4032,  0.4167,  0.1753,  0.0000,  0.0001,\n",
      "           0.0001,  0.0001,  0.0001]]], device='cuda:0')\n",
      "decOut:SOS, decAtt:tensor([[[ 8.6313e-06,  1.5286e-07,  3.9055e-03,  4.1711e-01,  5.7761e-01,\n",
      "           8.5116e-04,  1.2861e-04,  1.2861e-04,  1.2861e-04,  1.2861e-04]]], device='cuda:0')\n",
      "decOut:SOS, decAtt:tensor([[[ 0.0005,  0.0003,  0.0089,  0.0516,  0.9197,  0.0050,  0.0035,\n",
      "           0.0035,  0.0035,  0.0035]]], device='cuda:0')\n",
      "decOut:SOS, decAtt:tensor([[[ 0.0038,  0.0005,  0.0193,  0.0416,  0.8305,  0.0081,  0.0240,\n",
      "           0.0240,  0.0240,  0.0240]]], device='cuda:0')\n",
      "decOut:SOS, decAtt:tensor([[[ 0.0142,  0.0034,  0.0499,  0.1317,  0.5384,  0.0181,  0.0610,\n",
      "           0.0610,  0.0610,  0.0610]]], device='cuda:0')\n",
      "decOut:SOS, decAtt:tensor([[[ 0.0307,  0.0026,  0.0586,  0.1388,  0.4803,  0.0210,  0.0670,\n",
      "           0.0670,  0.0670,  0.0670]]], device='cuda:0')\n",
      "decOut:SOS, decAtt:tensor([[[ 0.0148,  0.0027,  0.0495,  0.1455,  0.6521,  0.0086,  0.0317,\n",
      "           0.0317,  0.0317,  0.0317]]], device='cuda:0')\n",
      "decOut:SOS, decAtt:tensor([[[ 0.0179,  0.0029,  0.0513,  0.1615,  0.6260,  0.0130,  0.0318,\n",
      "           0.0318,  0.0318,  0.0318]]], device='cuda:0')\n",
      "< \n",
      "\n",
      "> c est une fondue de tricot .\n",
      "= she is really into knitting .\n",
      "decOut:SOS, decAtt:tensor([[[ 0.0005,  0.1061,  0.4960,  0.2195,  0.0713,  0.0660,  0.0326,\n",
      "           0.0010,  0.0034,  0.0034]]], device='cuda:0')\n",
      "decOut:SOS, decAtt:tensor([[[ 0.0000,  0.0001,  0.5768,  0.2378,  0.0917,  0.0640,  0.0280,\n",
      "           0.0003,  0.0008,  0.0008]]], device='cuda:0')\n",
      "decOut:SOS, decAtt:tensor([[[ 1.1540e-05,  5.6794e-06,  4.4662e-01,  2.6652e-01,  1.2888e-01,\n",
      "           9.9757e-02,  5.6095e-02,  2.7318e-04,  9.1882e-04,  9.1882e-04]]], device='cuda:0')\n",
      "decOut:SOS, decAtt:tensor([[[ 3.8912e-10,  2.2064e-08,  5.1951e-04,  3.1855e-01,  4.9895e-02,\n",
      "           3.9983e-01,  2.3087e-01,  3.2756e-04,  5.5965e-06,  5.5965e-06]]], device='cuda:0')\n",
      "decOut:SOS, decAtt:tensor([[[ 3.0296e-11,  9.2534e-10,  2.6228e-06,  2.1778e-03,  4.8420e-03,\n",
      "           2.3844e-01,  7.5417e-01,  3.6759e-04,  3.5594e-07,  3.5594e-07]]], device='cuda:0')\n",
      "decOut:SOS, decAtt:tensor([[[ 1.3437e-09,  3.6319e-07,  7.5211e-05,  3.4426e-03,  3.1381e-03,\n",
      "           3.3502e-02,  9.5678e-01,  3.0555e-03,  2.8656e-06,  2.8656e-06]]], device='cuda:0')\n",
      "decOut:SOS, decAtt:tensor([[[ 1.6401e-08,  2.9987e-06,  1.4325e-03,  1.7750e-02,  1.2413e-02,\n",
      "           8.3768e-02,  8.7604e-01,  8.3952e-03,  9.7808e-05,  9.7808e-05]]], device='cuda:0')\n",
      "decOut:SOS, decAtt:tensor([[[ 4.9379e-08,  1.3015e-06,  9.3653e-04,  1.1870e-02,  2.1389e-02,\n",
      "           9.7556e-02,  8.5033e-01,  1.7438e-02,  2.4111e-04,  2.4111e-04]]], device='cuda:0')\n",
      "decOut:SOS, decAtt:tensor([[[ 1.9097e-08,  1.1484e-06,  5.9153e-04,  1.0036e-02,  1.8141e-02,\n",
      "           9.0933e-02,  8.6905e-01,  1.1092e-02,  7.7597e-05,  7.7597e-05]]], device='cuda:0')\n",
      "decOut:SOS, decAtt:tensor([[[ 2.8724e-08,  1.6103e-06,  7.4463e-04,  1.0111e-02,  1.1643e-02,\n",
      "           7.0079e-02,  8.9256e-01,  1.4679e-02,  8.9555e-05,  8.9555e-05]]], device='cuda:0')\n",
      "< \n",
      "\n",
      "> tu es avec des amies .\n",
      "= you re with friends .\n"
     ]
    },
    {
     "name": "stderr",
     "output_type": "stream",
     "text": [
      "/beegfs/fs1520/pytorch_gpu/py3.6.3/lib/python3.6/site-packages/ipykernel_launcher.py:42: UserWarning: Implicit dimension choice for log_softmax has been deprecated. Change the call to include dim=X as an argument.\n"
     ]
    },
    {
     "name": "stdout",
     "output_type": "stream",
     "text": [
      "decOut:SOS, decAtt:tensor([[[ 0.0155,  0.1815,  0.7291,  0.0372,  0.0044,  0.0041,  0.0007,\n",
      "           0.0092,  0.0092,  0.0092]]], device='cuda:0')\n",
      "decOut:SOS, decAtt:tensor([[[ 0.0000,  0.0000,  0.9707,  0.0233,  0.0016,  0.0034,  0.0001,\n",
      "           0.0003,  0.0003,  0.0003]]], device='cuda:0')\n",
      "decOut:SOS, decAtt:tensor([[[ 1.7067e-05,  3.1584e-07,  9.2620e-01,  5.6391e-02,  4.9436e-03,\n",
      "           8.8156e-03,  2.4803e-04,  1.1265e-03,  1.1265e-03,  1.1265e-03]]], device='cuda:0')\n",
      "decOut:SOS, decAtt:tensor([[[ 1.0344e-08,  3.4428e-09,  2.5556e-05,  1.0551e-01,  5.1181e-01,\n",
      "           3.7784e-01,  4.7643e-03,  1.5511e-05,  1.5511e-05,  1.5511e-05]]], device='cuda:0')\n",
      "decOut:SOS, decAtt:tensor([[[ 9.6181e-08,  4.8925e-07,  3.5012e-05,  1.1307e-04,  1.5040e-01,\n",
      "           8.4795e-01,  1.4933e-03,  3.1266e-06,  3.1266e-06,  3.1266e-06]]], device='cuda:0')\n",
      "decOut:SOS, decAtt:tensor([[[ 0.0000,  0.0000,  0.0024,  0.0020,  0.1851,  0.7998,  0.0070,\n",
      "           0.0012,  0.0012,  0.0012]]], device='cuda:0')\n",
      "decOut:SOS, decAtt:tensor([[[ 2.8146e-06,  2.9652e-06,  4.9888e-04,  2.3789e-03,  6.5523e-02,\n",
      "           9.2939e-01,  1.7671e-03,  1.4674e-04,  1.4674e-04,  1.4674e-04]]], device='cuda:0')\n",
      "decOut:SOS, decAtt:tensor([[[ 0.0000,  0.0000,  0.0027,  0.0045,  0.2496,  0.7319,  0.0083,\n",
      "           0.0010,  0.0010,  0.0010]]], device='cuda:0')\n",
      "decOut:SOS, decAtt:tensor([[[ 3.5152e-06,  1.7211e-06,  2.0656e-04,  1.8600e-03,  5.1907e-02,\n",
      "           9.4386e-01,  1.8031e-03,  1.1791e-04,  1.1791e-04,  1.1791e-04]]], device='cuda:0')\n",
      "decOut:SOS, decAtt:tensor([[[ 0.0001,  0.0000,  0.0024,  0.0042,  0.2211,  0.7578,  0.0111,\n",
      "           0.0011,  0.0011,  0.0011]]], device='cuda:0')\n",
      "< \n",
      "\n",
      "> vous etes sur le mauvais bateau .\n",
      "= you re on the wrong ship .\n",
      "decOut:SOS, decAtt:tensor([[[ 0.0036,  0.2160,  0.4571,  0.2002,  0.0503,  0.0141,  0.0158,\n",
      "           0.0011,  0.0209,  0.0209]]], device='cuda:0')\n",
      "decOut:SOS, decAtt:tensor([[[ 0.0001,  0.0001,  0.7771,  0.1521,  0.0385,  0.0120,  0.0141,\n",
      "           0.0003,  0.0028,  0.0028]]], device='cuda:0')\n",
      "decOut:SOS, decAtt:tensor([[[ 0.0000,  0.0000,  0.6930,  0.2074,  0.0709,  0.0159,  0.0108,\n",
      "           0.0003,  0.0009,  0.0009]]], device='cuda:0')\n",
      "decOut:SOS, decAtt:tensor([[[ 2.3123e-07,  1.4208e-08,  1.0704e-02,  1.3069e-01,  7.5736e-01,\n",
      "           6.6924e-02,  3.3013e-02,  2.6179e-04,  5.2446e-04,  5.2446e-04]]], device='cuda:0')\n",
      "decOut:SOS, decAtt:tensor([[[ 3.4582e-10,  2.9619e-09,  9.4237e-07,  1.2481e-05,  2.9205e-04,\n",
      "           5.8479e-01,  4.1472e-01,  1.9093e-04,  1.2114e-07,  1.2114e-07]]], device='cuda:0')\n",
      "decOut:SOS, decAtt:tensor([[[ 3.2121e-08,  2.2447e-07,  3.1679e-05,  7.6900e-05,  7.5236e-04,\n",
      "           4.0078e-02,  9.5690e-01,  2.1619e-03,  1.8809e-06,  1.8809e-06]]], device='cuda:0')\n",
      "decOut:SOS, decAtt:tensor([[[ 4.6785e-06,  9.0054e-06,  2.6272e-03,  2.4880e-03,  1.3079e-02,\n",
      "           9.4106e-02,  8.7904e-01,  5.5892e-03,  1.5292e-03,  1.5292e-03]]], device='cuda:0')\n",
      "decOut:SOS, decAtt:tensor([[[ 9.7855e-06,  3.8761e-06,  1.2552e-03,  1.8594e-03,  3.7786e-03,\n",
      "           3.5243e-01,  6.3365e-01,  4.8170e-03,  1.0983e-03,  1.0983e-03]]], device='cuda:0')\n",
      "decOut:SOS, decAtt:tensor([[[ 1.0532e-05,  1.8391e-06,  3.9572e-04,  1.2852e-03,  1.0578e-03,\n",
      "           1.3367e-01,  8.5386e-01,  7.9072e-03,  9.0751e-04,  9.0751e-04]]], device='cuda:0')\n",
      "decOut:SOS, decAtt:tensor([[[ 3.1694e-06,  3.1144e-06,  1.9398e-03,  2.3085e-03,  5.1938e-03,\n",
      "           2.1377e-01,  7.7029e-01,  4.2658e-03,  1.1133e-03,  1.1133e-03]]], device='cuda:0')\n",
      "< \n",
      "\n",
      "> elle a arrete de parler .\n",
      "= she stopped talking .\n",
      "decOut:SOS, decAtt:tensor([[[ 0.1020,  0.1189,  0.3417,  0.1277,  0.1587,  0.1208,  0.0059,\n",
      "           0.0081,  0.0081,  0.0081]]], device='cuda:0')\n",
      "decOut:SOS, decAtt:tensor([[[ 0.0014,  0.0062,  0.0485,  0.0871,  0.4522,  0.4019,  0.0008,\n",
      "           0.0006,  0.0006,  0.0006]]], device='cuda:0')\n",
      "decOut:SOS, decAtt:tensor([[[ 0.0001,  0.0009,  0.0088,  0.0316,  0.4879,  0.4701,  0.0002,\n",
      "           0.0001,  0.0001,  0.0001]]], device='cuda:0')\n",
      "decOut:SOS, decAtt:tensor([[[ 2.5007e-06,  3.0942e-06,  9.4729e-05,  8.9369e-04,  1.4046e-01,\n",
      "           8.5548e-01,  2.9552e-03,  3.5753e-05,  3.5753e-05,  3.5753e-05]]], device='cuda:0')\n",
      "decOut:SOS, decAtt:tensor([[[ 0.0009,  0.0035,  0.0430,  0.0892,  0.3885,  0.4114,  0.0154,\n",
      "           0.0161,  0.0161,  0.0161]]], device='cuda:0')\n",
      "decOut:SOS, decAtt:tensor([[[ 0.0027,  0.0159,  0.0851,  0.0636,  0.2978,  0.4528,  0.0346,\n",
      "           0.0158,  0.0158,  0.0158]]], device='cuda:0')\n",
      "decOut:SOS, decAtt:tensor([[[ 0.0024,  0.0112,  0.0860,  0.0764,  0.3323,  0.3857,  0.0350,\n",
      "           0.0236,  0.0236,  0.0236]]], device='cuda:0')\n",
      "decOut:SOS, decAtt:tensor([[[ 0.0089,  0.0257,  0.0697,  0.0614,  0.2823,  0.4457,  0.0483,\n",
      "           0.0193,  0.0193,  0.0193]]], device='cuda:0')\n",
      "decOut:SOS, decAtt:tensor([[[ 0.0016,  0.0089,  0.0781,  0.0608,  0.3463,  0.4311,  0.0292,\n",
      "           0.0146,  0.0146,  0.0146]]], device='cuda:0')\n",
      "decOut:SOS, decAtt:tensor([[[ 0.0070,  0.0221,  0.0549,  0.0497,  0.3165,  0.4873,  0.0338,\n",
      "           0.0096,  0.0096,  0.0096]]], device='cuda:0')\n",
      "< \n",
      "\n"
     ]
    }
   ],
   "source": [
    "evaluateRandomly(encoder1, attn_decoder1)"
   ]
  },
  {
   "cell_type": "markdown",
   "metadata": {},
   "source": [
    "Visualizing Attention\n",
    "---------------------\n",
    "\n",
    "A useful property of the attention mechanism is its highly interpretable\n",
    "outputs. Because it is used to weight specific encoder outputs of the\n",
    "input sequence, we can imagine looking where the network is focused most\n",
    "at each time step."
   ]
  },
  {
   "cell_type": "code",
   "execution_count": 38,
   "metadata": {},
   "outputs": [
    {
     "name": "stdout",
     "output_type": "stream",
     "text": [
      "input = elle a cinq ans de moins que moi .\n",
      "output = she is six years older than me . <EOS>\n"
     ]
    },
    {
     "data": {
      "image/png": "[encoded data removed]",
      "text/plain": [
       "<matplotlib.figure.Figure at 0x11cc35240>"
      ]
     },
     "metadata": {},
     "output_type": "display_data"
    },
    {
     "name": "stdout",
     "output_type": "stream",
     "text": [
      "input = elle est trop petit .\n",
      "output = she is too fat . <EOS>\n"
     ]
    },
    {
     "data": {
      "image/png": "[encoded data removed]",
      "text/plain": [
       "<matplotlib.figure.Figure at 0x11cc35710>"
      ]
     },
     "metadata": {},
     "output_type": "display_data"
    },
    {
     "name": "stdout",
     "output_type": "stream",
     "text": [
      "input = je ne crains pas de mourir .\n",
      "output = i m not afraid to die . <EOS>\n"
     ]
    },
    {
     "data": {
      "image/png": "[encoded data removed]",
      "text/plain": [
       "<matplotlib.figure.Figure at 0x11f59ef98>"
      ]
     },
     "metadata": {},
     "output_type": "display_data"
    },
    {
     "name": "stdout",
     "output_type": "stream",
     "text": [
      "input = c est un jeune directeur plein de talent .\n",
      "output = he s a lovely young young . <EOS>\n"
     ]
    },
    {
     "data": {
      "image/png": "[encoded data removed]",
      "text/plain": [
       "<matplotlib.figure.Figure at 0x11cf3de80>"
      ]
     },
     "metadata": {},
     "output_type": "display_data"
    }
   ],
   "source": [
    "def showAttention(input_sentence, output_words, attentions):\n",
    "    \"\"\"\n",
    "    Function that takes in attention and visualize the attention.\n",
    "    @param - input_sentence: string the represent a list of words from source language\n",
    "    @param - output_words: the gold translation in target language\n",
    "    @param - attentions: a numpy array\n",
    "    \"\"\"\n",
    "    # Set up figure with colorbar    \n",
    "\n",
    "    fig = plt.figure()\n",
    "    ax = fig.add_subplot(111)\n",
    "    \n",
    "    # TODO: Add your code here to visualize the attention\n",
    "    # look at documentation for imshow https://matplotlib.org/api/_as_gen/matplotlib.axes.Axes.matshow.html\n",
    "\n",
    "    # Set up axes\n",
    "    ax.set_xticklabels([''] + input_sentence.split(' ') +\n",
    "                       ['<EOS>'], rotation=90)\n",
    "    ax.set_yticklabels([''] + output_words)\n",
    "\n",
    "    # Show label at every tick\n",
    "    ax.xaxis.set_major_locator(ticker.MultipleLocator(1))\n",
    "    ax.yaxis.set_major_locator(ticker.MultipleLocator(1))\n",
    "\n",
    "    plt.show()\n",
    "\n",
    "\n",
    "def evaluateAndShowAttention(input_sentence):\n",
    "    output_words, attentions = evaluate(\n",
    "        encoder1, attn_decoder1, input_sentence)\n",
    "    print('input =', input_sentence)\n",
    "    print('output =', ' '.join(output_words))\n",
    "    showAttention(input_sentence, output_words, attentions)\n",
    "\n",
    "\n",
    "evaluateAndShowAttention(\"elle a cinq ans de moins que moi .\")\n",
    "\n",
    "evaluateAndShowAttention(\"elle est trop petit .\")\n",
    "\n",
    "evaluateAndShowAttention(\"je ne crains pas de mourir .\")\n",
    "\n",
    "evaluateAndShowAttention(\"c est un jeune directeur plein de talent .\")"
   ]
  },
  {
   "cell_type": "markdown",
   "metadata": {},
   "source": [
    "Take-home Questions\n",
    "---------------------\n",
    "1. We used randomized initialization for word embedding. What's the advantage of using pre-trained embedding for initialization? Think about rare word.\n",
    "\n",
    "2. Which lines of code tell the decoder to stop generate output tokens?\n",
    "\n",
    "3. What's different in the training process when use_teacher_forcing is activated versus not activated?\n",
    "\n",
    "4. What's the loss we used when use_teacher_forcing mode is NOT activated? Is it a reasonable loss? Why?\n",
    "\n",
    "5. In the forward() function of AttnDecoder class, attention is computed for each output on all hidden states of source inputs. All source hidden states are stored in variable encoder_outputs. Did we directly use encoder_outputs when we compute attn_weights? If no, which variable gives information about all the source hidden states in the computation of attention weights?\n"
   ]
  },
  {
   "cell_type": "code",
   "execution_count": null,
   "metadata": {
    "collapsed": true
   },
   "outputs": [],
   "source": []
  }
 ],
 "metadata": {
  "kernelspec": {
   "display_name": "Python 3",
   "language": "python",
   "name": "python3"
  },
  "language_info": {
   "codemirror_mode": {
    "name": "ipython",
    "version": 3
   },
   "file_extension": ".py",
   "mimetype": "text/x-python",
   "name": "python",
   "nbconvert_exporter": "python",
   "pygments_lexer": "ipython3",
   "version": "3.6.3"
  }
 },
 "nbformat": 4,
 "nbformat_minor": 2
}
