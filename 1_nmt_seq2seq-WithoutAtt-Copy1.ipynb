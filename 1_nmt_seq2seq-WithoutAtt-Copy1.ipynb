{
 "cells": [
  {
   "cell_type": "markdown",
   "metadata": {},
   "source": [
    "# DS-GA 1011 Lab 8 Neural Machine Translation with Seq2Seq model and Attention"
   ]
  },
  {
   "cell_type": "markdown",
   "metadata": {},
   "source": [
    "Adapted from the PyTorch tutorials (https://pytorch.org/tutorials/intermediate/seq2seq_translation_tutorial.html)"
   ]
  },
  {
   "cell_type": "markdown",
   "metadata": {},
   "source": [
    "In this lab we will be teaching a neural network to translate from French to English.\n",
    "::\n",
    "\n",
    "    [KEY: > input, = target, < output]\n",
    "\n",
    "    > il est en train de peindre un tableau .\n",
    "    = he is painting a picture .\n",
    "    < he is painting a picture .\n",
    "\n",
    "    > pourquoi ne pas essayer ce vin delicieux ?\n",
    "    = why not try that delicious wine ?\n",
    "    < why not try that delicious wine ?\n",
    "\n",
    "    > elle n est pas poete mais romanciere .\n",
    "    = she is not a poet but a novelist .\n",
    "    < she not not a poet but a novelist .\n",
    "\n",
    "    > vous etes trop maigre .\n",
    "    = you re too skinny .\n",
    "    < you re all alone .\n",
    "\n",
    "... to varying degrees of success.\n",
    "\n",
    "This is made possible by the simple but powerful idea of the `sequence\n",
    "to sequence network <http://arxiv.org/abs/1409.3215>`__, in which two\n",
    "recurrent neural networks work together to transform one sequence to\n",
    "another. An encoder network condenses an input sequence into a vector,\n",
    "and a decoder network unfolds that vector into a new sequence.\n",
    "\n",
    "\n",
    "To improve upon this model we'll use an `attention\n",
    "mechanism <https://arxiv.org/abs/1409.0473>`__, which lets the decoder\n",
    "learn to focus over a specific range of the input sequence.\n",
    "\n"
   ]
  },
  {
   "cell_type": "code",
   "execution_count": 1,
   "metadata": {},
   "outputs": [],
   "source": [
    "from __future__ import unicode_literals, print_function, division\n",
    "from io import open\n",
    "import unicodedata\n",
    "import string\n",
    "import re\n",
    "import random\n",
    "\n",
    "import torch\n",
    "import torch.nn as nn\n",
    "from torch import optim\n",
    "import torch.nn.functional as F\n",
    "\n",
    "device = torch.device(\"cuda\" if torch.cuda.is_available() else \"cpu\")"
   ]
  },
  {
   "cell_type": "code",
   "execution_count": 2,
   "metadata": {},
   "outputs": [
    {
     "data": {
      "text/plain": [
       "device(type='cuda')"
      ]
     },
     "execution_count": 2,
     "metadata": {},
     "output_type": "execute_result"
    }
   ],
   "source": [
    "device"
   ]
  },
  {
   "cell_type": "markdown",
   "metadata": {},
   "source": [
    "## Loading Data"
   ]
  },
  {
   "cell_type": "markdown",
   "metadata": {},
   "source": [
    "Download the data from https://download.pytorch.org/tutorial/data.zip and unzip the file in the location of the notebook.\n",
    "    \n",
    "We'll use data/eng-fra.txt where each line in the file is a tab separated pair of English and French word sequence:\n",
    "\n",
    "    I am cold.    J'ai froid.\n"
   ]
  },
  {
   "cell_type": "markdown",
   "metadata": {},
   "source": [
    "## Preprocess Data\n",
    "\n",
    "We'll need a unique index per word to use as the inputs and targets of the networks later. To keep track of all this we will use a helper class called Lang which has word → index (word2index) and index → word (index2word) dictionaries, as well as a count of each word word2count to use to later replace rare words."
   ]
  },
  {
   "cell_type": "code",
   "execution_count": 3,
   "metadata": {},
   "outputs": [],
   "source": [
    "PAD_token = 0\n",
    "SOS_token = 1\n",
    "EOS_token = 2\n",
    "\n",
    "class Lang:\n",
    "    def __init__(self, name):\n",
    "        self.name = name\n",
    "        self.word2index = {}\n",
    "        self.word2count = {}\n",
    "        self.index2word = {0: \"<pad>\", 1: \"SOS\", 2: \"EOS\"}\n",
    "        self.n_words = 3  # Count SOS and EOS\n",
    "\n",
    "    def addSentence(self, sentence):\n",
    "        for word in sentence.split(' '):\n",
    "            self.addWord(word)\n",
    "\n",
    "    def addWord(self, word):\n",
    "        if word not in self.word2index:\n",
    "            self.word2index[word] = self.n_words\n",
    "            self.word2count[word] = 1\n",
    "            self.index2word[self.n_words] = word\n",
    "            self.n_words += 1\n",
    "        else:\n",
    "            self.word2count[word] += 1"
   ]
  },
  {
   "cell_type": "markdown",
   "metadata": {},
   "source": [
    "The files are all in Unicode, to simplify we will turn Unicode characters to ASCII, make everything lowercase, and trim most punctuation."
   ]
  },
  {
   "cell_type": "code",
   "execution_count": 4,
   "metadata": {},
   "outputs": [],
   "source": [
    "# Turn a Unicode string to plain ASCII, thanks to\n",
    "# http://stackoverflow.com/a/518232/2809427\n",
    "def unicodeToAscii(s):\n",
    "    return ''.join(\n",
    "        c for c in unicodedata.normalize('NFD', s)\n",
    "        if unicodedata.category(c) != 'Mn'\n",
    "    )\n",
    "\n",
    "# Lowercase, trim, and remove non-letter characters\n",
    "\n",
    "\n",
    "def normalizeString(s):\n",
    "    s = unicodeToAscii(s.lower().strip())\n",
    "    s = re.sub(r\"([.!?])\", r\" \\1\", s)\n",
    "    s = re.sub(r\"[^a-zA-Z.!?]+\", r\" \", s)\n",
    "    return s"
   ]
  },
  {
   "cell_type": "markdown",
   "metadata": {},
   "source": [
    "To read the data file we will split the file into lines, and then split lines into pairs. The files are all English → Other Language, so if we want to translate from Other Language → English I added the reverse flag to reverse the pairs."
   ]
  },
  {
   "cell_type": "code",
   "execution_count": 5,
   "metadata": {},
   "outputs": [],
   "source": [
    "def readLangs(lang1, lang2, reverse=False):\n",
    "    print(\"Reading lines...\")\n",
    "\n",
    "    # Read the file and split into lines\n",
    "    lines = open('data/%s-%s.txt' % (lang1, lang2), encoding='utf-8').\\\n",
    "        read().strip().split('\\n')\n",
    "\n",
    "    # Split every line into pairs and normalize\n",
    "    pairs = [[normalizeString(s) for s in l.split('\\t')] for l in lines]\n",
    "\n",
    "    # Reverse pairs, make Lang instances\n",
    "    if reverse:\n",
    "        pairs = [list(reversed(p)) for p in pairs]\n",
    "        input_lang = Lang(lang2)\n",
    "        output_lang = Lang(lang1)\n",
    "    else:\n",
    "        input_lang = Lang(lang1)\n",
    "        output_lang = Lang(lang2)\n",
    "\n",
    "    return input_lang, output_lang, pairs"
   ]
  },
  {
   "cell_type": "markdown",
   "metadata": {},
   "source": [
    "Since there are a *lot* of example sentences and we want to train\n",
    "something quickly, we'll trim the data set to only relatively short and\n",
    "simple sentences. Here the maximum length is 10 words (that includes\n",
    "ending punctuation) and we're filtering to sentences that translate to\n",
    "the form \"I am\" or \"He is\" etc. (accounting for apostrophes replaced\n",
    "earlier).\n",
    "\n",
    "\n"
   ]
  },
  {
   "cell_type": "code",
   "execution_count": 6,
   "metadata": {},
   "outputs": [],
   "source": [
    "MAX_LENGTH = 10\n",
    "\n",
    "eng_prefixes = (\n",
    "    \"i am \", \"i m \",\n",
    "    \"he is\", \"he s \",\n",
    "    \"she is\", \"she s\",\n",
    "    \"you are\", \"you re \",\n",
    "    \"we are\", \"we re \",\n",
    "    \"they are\", \"they re \"\n",
    ")\n",
    "\n",
    "\n",
    "def filterPair(p):\n",
    "    return len(p[0].split(' ')) < MAX_LENGTH and \\\n",
    "        len(p[1].split(' ')) < MAX_LENGTH and \\\n",
    "        p[1].startswith(eng_prefixes)\n",
    "\n",
    "\n",
    "def filterPairs(pairs):\n",
    "    return [pair for pair in pairs if filterPair(pair)]"
   ]
  },
  {
   "cell_type": "markdown",
   "metadata": {},
   "source": [
    "The full process for preparing the data is:\n",
    "\n",
    "-  Read text file and split into lines, split lines into pairs\n",
    "-  Normalize text, filter by length and content\n",
    "-  Make word lists from sentences in pairs\n",
    "\n",
    "\n"
   ]
  },
  {
   "cell_type": "code",
   "execution_count": 7,
   "metadata": {
    "scrolled": true
   },
   "outputs": [
    {
     "name": "stdout",
     "output_type": "stream",
     "text": [
      "Reading lines...\n",
      "Read 135842 sentence pairs\n",
      "Trimmed to 10853 sentence pairs\n",
      "Counting words...\n",
      "Counted words:\n",
      "fra 4490\n",
      "eng 2926\n",
      "['tu es en train d effrayer les enfants .', 'you re scaring the kids .']\n"
     ]
    }
   ],
   "source": [
    "def prepareData(lang1, lang2, reverse=False):\n",
    "    input_lang, output_lang, pairs = readLangs(lang1, lang2, reverse)\n",
    "    print(\"Read %s sentence pairs\" % len(pairs))\n",
    "    pairs = filterPairs(pairs)\n",
    "    print(\"Trimmed to %s sentence pairs\" % len(pairs))\n",
    "    print(\"Counting words...\")\n",
    "    for pair in pairs:\n",
    "        input_lang.addSentence(pair[0])\n",
    "        output_lang.addSentence(pair[1])\n",
    "    print(\"Counted words:\")\n",
    "    print(input_lang.name, input_lang.n_words)\n",
    "    print(output_lang.name, output_lang.n_words)\n",
    "    return input_lang, output_lang, pairs\n",
    "\n",
    "\n",
    "input_lang, output_lang, pairs = prepareData('eng', 'fra', True)\n",
    "print(random.choice(pairs))"
   ]
  },
  {
   "cell_type": "code",
   "execution_count": 9,
   "metadata": {},
   "outputs": [
    {
     "data": {
      "text/plain": [
       "[1, 2, 3, 4]"
      ]
     },
     "execution_count": 9,
     "metadata": {},
     "output_type": "execute_result"
    }
   ],
   "source": [
    "a = [1,2,3]\n",
    "b = [4]\n",
    "a+b"
   ]
  },
  {
   "cell_type": "code",
   "execution_count": 33,
   "metadata": {},
   "outputs": [],
   "source": [
    "count1 = 0\n",
    "for se in data_source:\n",
    "    if len(se)>count1:\n",
    "        count1 = len(se)"
   ]
  },
  {
   "cell_type": "code",
   "execution_count": 34,
   "metadata": {},
   "outputs": [
    {
     "data": {
      "text/plain": [
       "10"
      ]
     },
     "execution_count": 34,
     "metadata": {},
     "output_type": "execute_result"
    }
   ],
   "source": [
    "count1"
   ]
  },
  {
   "cell_type": "code",
   "execution_count": 35,
   "metadata": {},
   "outputs": [
    {
     "data": {
      "text/plain": [
       "11"
      ]
     },
     "execution_count": 35,
     "metadata": {},
     "output_type": "execute_result"
    }
   ],
   "source": [
    "count2 = 0\n",
    "for se in data_target:\n",
    "    if len(se)>count2:\n",
    "        count2 = len(se)\n",
    "        \n",
    "count2"
   ]
  },
  {
   "cell_type": "code",
   "execution_count": null,
   "metadata": {},
   "outputs": [],
   "source": []
  },
  {
   "cell_type": "code",
   "execution_count": null,
   "metadata": {},
   "outputs": [],
   "source": []
  },
  {
   "cell_type": "code",
   "execution_count": null,
   "metadata": {},
   "outputs": [],
   "source": []
  },
  {
   "cell_type": "code",
   "execution_count": 8,
   "metadata": {},
   "outputs": [],
   "source": [
    "data_source = []\n",
    "data_target = []\n",
    "\n",
    "for pair in pairs:\n",
    "    se0 = [input_lang.word2index[word] for word in pair[0].split(' ')]\n",
    "    se0.append(EOS_token)\n",
    "    se1 = [SOS_token] + [output_lang.word2index[word] for word in pair[1].split(' ')] + [EOS_token]\n",
    "    data_source.append(se0)\n",
    "    data_target.append(se1)"
   ]
  },
  {
   "cell_type": "code",
   "execution_count": 9,
   "metadata": {},
   "outputs": [
    {
     "data": {
      "text/plain": [
       "(10853, 10853)"
      ]
     },
     "execution_count": 9,
     "metadata": {},
     "output_type": "execute_result"
    }
   ],
   "source": [
    "len(data_source), len(data_target)"
   ]
  },
  {
   "cell_type": "code",
   "execution_count": 10,
   "metadata": {},
   "outputs": [],
   "source": [
    "from torch.utils.data import Dataset\n",
    "import numpy as np\n",
    "\n",
    "class TranslateDataset(Dataset):\n",
    "    \"\"\"\n",
    "    Class that represents a train/validation/test dataset that's readable for PyTorch\n",
    "    Note that this class inherits torch.utils.data.Dataset\n",
    "    \"\"\"\n",
    "\n",
    "    def __init__(self, data_source, data_target):\n",
    "        \"\"\"\n",
    "        @param data_list: list of character\n",
    "        @param target_list: list of targets\n",
    "\n",
    "        \"\"\"\n",
    "        self.source, self.target = data_source, data_target\n",
    "        assert (len(self.source)==len(self.target))\n",
    "\n",
    "    def __len__(self):\n",
    "        return len(self.source)\n",
    "\n",
    "    def __getitem__(self, key):\n",
    "        \"\"\"\n",
    "        Triggered when you call dataset[i]\n",
    "        \"\"\"\n",
    "        return [self.source[key], len(self.source[key]), self.target[key], len(self.target[key])]\n",
    "\n",
    "def vocab_collate_func(batch):\n",
    "    \"\"\"\n",
    "    Customized function for DataLoader that dynamically pads the batch so that all\n",
    "    data have the same length\n",
    "    \"\"\"\n",
    "    source_list = []\n",
    "    target_list = []\n",
    "    length_list = []\n",
    "\n",
    "    for datum in batch:\n",
    "        length_list.append(max(datum[1], datum[3]))\n",
    "    # padding\n",
    "    MAX_WORD_LENGTH = 11\n",
    "    #max_length = max(length_list)\n",
    "    for datum in batch:\n",
    "        padded_source = np.pad(np.array(datum[0]),\n",
    "                                pad_width=((0,MAX_WORD_LENGTH-len(datum[0]))),\n",
    "                                mode=\"constant\", constant_values=0)\n",
    "        padded_target = np.pad(np.array(datum[2]),\n",
    "                                pad_width=((0,MAX_WORD_LENGTH-len(datum[2]))),\n",
    "                                mode=\"constant\", constant_values=0)\n",
    "        source_list.append(padded_source)\n",
    "        target_list.append(padded_target)\n",
    "        \n",
    "    ind_dec_order = np.argsort(length_list)[::-1]\n",
    "    source_list = np.array(source_list)[ind_dec_order]\n",
    "    target_list = np.array(target_list)[ind_dec_order]\n",
    "    length_list = np.array(length_list)[ind_dec_order]\n",
    "\n",
    "    return [torch.from_numpy(np.array(source_list)), torch.from_numpy(np.array(target_list))]"
   ]
  },
  {
   "cell_type": "code",
   "execution_count": 11,
   "metadata": {},
   "outputs": [],
   "source": [
    "train_data = TranslateDataset(data_source, data_target)"
   ]
  },
  {
   "cell_type": "code",
   "execution_count": 12,
   "metadata": {},
   "outputs": [],
   "source": [
    "BATCH_SIZE = 20\n",
    "train_loader = torch.utils.data.DataLoader(dataset=train_data,\n",
    "                                           batch_size=BATCH_SIZE,\n",
    "                                           collate_fn=vocab_collate_func,\n",
    "                                           shuffle=True)"
   ]
  },
  {
   "cell_type": "code",
   "execution_count": 13,
   "metadata": {},
   "outputs": [],
   "source": [
    "for data in train_loader:\n",
    "    data = data\n",
    "    break"
   ]
  },
  {
   "cell_type": "code",
   "execution_count": 14,
   "metadata": {},
   "outputs": [
    {
     "data": {
      "text/plain": [
       "[tensor([[  25, 1482,  975,  102,  130,  250, 1548,    6,    2,    0,    0],\n",
       "         [ 212,  213, 1550,  102,  541,  915,  212,  285,    6,    2,    0],\n",
       "         [  25,   15,  116, 1199,  102,  643, 1389,    6,    2,    0,    0],\n",
       "         [   7,  285,   97,  144,  915,    7, 1135,    6,    2,    0,    0],\n",
       "         [  15, 3248,   25,  247,   26,  248,  455, 3873,    6,    2,    0],\n",
       "         [   7,   12,  975, 1480,  102,  428, 1007,    6,    2,    0,    0],\n",
       "         [  25,   26,  102,  935,  455, 1376,  196, 1047,    6,    2,    0],\n",
       "         [ 120,  362, 2209,  102, 3565,  196, 3566,    6,    2,    0,    0],\n",
       "         [   7,   28,   12,  985,  116,  692,   70,    6,    2,    0,    0],\n",
       "         [  25,   26, 3879,  116,  102, 3880, 2989,    6,    2,    0,    0],\n",
       "         [ 212,  213, 2324, 2858,    6,    2,    0,    0,    0,    0,    0],\n",
       "         [ 120,  534, 2966,  102, 2967,    6,    2,    0,    0,    0,    0],\n",
       "         [ 146,   26,  300,  292, 2427,    6,    2,    0,    0,    0,    0],\n",
       "         [ 119,  216,  189, 1846,    6,    2,    0,    0,    0,    0,    0],\n",
       "         [ 119,  216,  122,  131,    6,    2,    0,    0,    0,    0,    0],\n",
       "         [ 124,  127,  558,  394,    6,    2,    0,    0,    0,    0,    0],\n",
       "         [   7,  299,   12,  248,   21,    6,    2,    0,    0,    0,    0],\n",
       "         [   7,   12,   73,    6,    2,    0,    0,    0,    0,    0,    0],\n",
       "         [ 212,  213,  114,    6,    2,    0,    0,    0,    0,    0,    0],\n",
       "         [ 124,  127,  783,    6,    2,    0,    0,    0,    0,    0,    0]]),\n",
       " tensor([[   1,   15,   41,  779,  328,  540, 1367,  296, 1148,    5,    2],\n",
       "         [   1,  131,  126, 1589,  754, 1472,  131, 1367,    5,    2,    0],\n",
       "         [   1,   15,   41, 1225,  313,  692,  147, 2305,    5,    2,    0],\n",
       "         [   1,    3,    4,  501,  296,  571,    3, 1057,    5,    2,    0],\n",
       "         [   1,   15,   41, 1982,  149,  296, 1255,    5,    2,    0,    0],\n",
       "         [   1,    3,    4,  779,  811,  526,  147,  560,    5,    2,    0],\n",
       "         [   1,   15,   41,  784, 1172,  296,  571,  365,    5,    2,    0],\n",
       "         [   1,   76, 1282, 2226, 2227,    5,    2,    0,    0,    0,    0],\n",
       "         [   1,    3,   17,  496,  540, 1239,   50,    5,    2,    0,    0],\n",
       "         [   1,   15,   41, 2803,  784, 2067, 2084,    5,    2,    0,    0],\n",
       "         [   1,  131,   79,   43,  651,  913,    5,    2,    0,    0,    0],\n",
       "         [   1,   76,   41,   43, 1696, 1788,    5,    2,    0,    0,    0],\n",
       "         [   1,   76,   41,   43,   45, 1422,    5,    2,    0,    0,    0],\n",
       "         [   1,  131,   79,  305,  337,    5,    2,    0,    0,    0,    0],\n",
       "         [   1,  131,   79,  305,  125,    5,    2,    0,    0,    0,    0],\n",
       "         [   1,   78,   79,  157,   55,    5,    2,    0,    0,    0,    0],\n",
       "         [   1,    3,    4,  149,   12,    5,    2,    0,    0,    0,    0],\n",
       "         [   1,    3,    4,   52,    5,    2,    0,    0,    0,    0,    0],\n",
       "         [   1,  131,   79,   74,    5,    2,    0,    0,    0,    0,    0],\n",
       "         [   1,   78,   79,  161,    5,    2,    0,    0,    0,    0,    0]])]"
      ]
     },
     "execution_count": 14,
     "metadata": {},
     "output_type": "execute_result"
    }
   ],
   "source": [
    "data"
   ]
  },
  {
   "cell_type": "markdown",
   "metadata": {},
   "source": [
    "The Seq2Seq Model\n",
    "=================\n",
    "\n",
    "A Recurrent Neural Network, or RNN, is a network that operates on a\n",
    "sequence and uses its own output as input for subsequent steps.\n",
    "\n",
    "A `Sequence to Sequence network <http://arxiv.org/abs/1409.3215>`__, or\n",
    "seq2seq network, or `Encoder Decoder\n",
    "network <https://arxiv.org/pdf/1406.1078v3.pdf>`__, is a model\n",
    "consisting of two RNNs called the encoder and decoder. The encoder reads\n",
    "an input sequence and outputs a single vector, and the decoder reads\n",
    "that vector to produce an output sequence.\n",
    "\n",
    "Unlike sequence prediction with a single RNN, where every input\n",
    "corresponds to an output, the seq2seq model frees us from sequence\n",
    "length and order, which makes it ideal for translation between two\n",
    "languages.\n",
    "\n",
    "Consider the sentence \"Je ne suis pas le chat noir\" → \"I am not the\n",
    "black cat\". Most of the words in the input sentence have a direct\n",
    "translation in the output sentence, but are in slightly different\n",
    "orders, e.g. \"chat noir\" and \"black cat\". Because of the \"ne/pas\"\n",
    "construction there is also one more word in the input sentence. It would\n",
    "be difficult to produce a correct translation directly from the sequence\n",
    "of input words.\n",
    "\n",
    "With a seq2seq model the encoder creates a single vector which, in the\n",
    "ideal case, encodes the \"meaning\" of the input sequence into a single\n",
    "vector — a single point in some N dimensional space of sentences.\n",
    "\n",
    "\n"
   ]
  },
  {
   "cell_type": "markdown",
   "metadata": {},
   "source": [
    "The Encoder\n",
    "-----------\n",
    "\n",
    "The encoder of a seq2seq network is a RNN that outputs some value for\n",
    "every word from the input sentence. For every input word the encoder\n",
    "outputs a vector and a hidden state, and uses the hidden state for the\n",
    "next input word."
   ]
  },
  {
   "cell_type": "code",
   "execution_count": 15,
   "metadata": {},
   "outputs": [],
   "source": [
    "class EncoderRNN(nn.Module):\n",
    "    def __init__(self, emb_size,  hidden_size, vocab_size):\n",
    "        super(EncoderRNN, self).__init__()\n",
    "        self.num_layers = 2\n",
    "        self.hidden_size = hidden_size\n",
    "\n",
    "        self.embedding = nn.Embedding(vocab_size, emb_size, padding_idx = 0)\n",
    "        self.gru = nn.GRU(emb_size, hidden_size, 2, batch_first=True, bidirectional=True)\n",
    "\n",
    "    def forward(self, s0):\n",
    "        batch_size, seq_len = s0.size()\n",
    "        \n",
    "        self.hidden = self.initHidden(batch_size)\n",
    "        embedded = self.embedding(s0)\n",
    "        \n",
    "        rnn_out, self.hidden = self.gru(embedded, self.hidden)\n",
    "        return rnn_out, self.hidden\n",
    "    \n",
    "    def initHidden(self, batch_size):\n",
    "        return torch.randn(2*self.num_layers, batch_size, self.hidden_size, device=device)"
   ]
  },
  {
   "cell_type": "code",
   "execution_count": 16,
   "metadata": {},
   "outputs": [],
   "source": [
    "class DecoderRNN(nn.Module):\n",
    "    def __init__(self, emb_size,  hidden_size, vocab_size, use_teacher_forcing):\n",
    "        super(DecoderRNN, self).__init__()\n",
    "        self.num_layers = 2\n",
    "        self.hidden_size = hidden_size\n",
    "        self.use_teacher_forcing = use_teacher_forcing\n",
    "        \n",
    "        self.embedding = nn.Embedding(vocab_size, emb_size, padding_idx = 0)\n",
    "        self.gru = nn.GRU(emb_size, hidden_size, 2, batch_first=True, bidirectional=True)\n",
    "        self.linear = nn.Linear(self.num_layers*hidden_size, vocab_size) ## The output of GRU has the same length as sentence length.\n",
    "        self.softmax = nn.LogSoftmax(dim=2)\n",
    "\n",
    "    def forward(self, s1, hidden):\n",
    "        embedded = self.embedding(s1)\n",
    "        embedded = F.relu(embedded)\n",
    "\n",
    "        rnn_out, hidden = self.gru(embedded, hidden)\n",
    "        rnn_out = self.linear(rnn_out)\n",
    "        rnn_out = self.softmax(rnn_out)\n",
    "        return rnn_out, hidden\n",
    "        "
   ]
  },
  {
   "cell_type": "code",
   "execution_count": 223,
   "metadata": {},
   "outputs": [],
   "source": [
    "encoder1 = EncoderRNN(100, 100, input_lang.n_words).to(device)\n",
    "decoder1 = DecoderRNN(100, 100, output_lang.n_words, True).to(device)"
   ]
  },
  {
   "cell_type": "code",
   "execution_count": 228,
   "metadata": {},
   "outputs": [],
   "source": [
    "d_input = data[0].to(device)\n",
    "_, hidden = encoder1(d_input)"
   ]
  },
  {
   "cell_type": "code",
   "execution_count": 229,
   "metadata": {},
   "outputs": [
    {
     "data": {
      "text/plain": [
       "torch.Size([20, 11])"
      ]
     },
     "execution_count": 229,
     "metadata": {},
     "output_type": "execute_result"
    }
   ],
   "source": [
    "data[1].size()"
   ]
  },
  {
   "cell_type": "code",
   "execution_count": 232,
   "metadata": {},
   "outputs": [],
   "source": [
    "decoder_hidden = hidden\n",
    "for  i in range(11):\n",
    "    decoder_input = data[1][:,i].view(-1, 1).to(device)\n",
    "    output, decoder_hidden = decoder1(decoder_input, decoder_hidden)"
   ]
  },
  {
   "cell_type": "code",
   "execution_count": 233,
   "metadata": {},
   "outputs": [
    {
     "data": {
      "text/plain": [
       "torch.Size([20, 1, 2926])"
      ]
     },
     "execution_count": 233,
     "metadata": {},
     "output_type": "execute_result"
    }
   ],
   "source": [
    "output.size()"
   ]
  },
  {
   "cell_type": "code",
   "execution_count": null,
   "metadata": {},
   "outputs": [],
   "source": [
    "d_output = data[1].to(device)\n",
    "output, _ = decoder1(d_output, hidden)"
   ]
  },
  {
   "cell_type": "code",
   "execution_count": null,
   "metadata": {},
   "outputs": [],
   "source": []
  },
  {
   "cell_type": "code",
   "execution_count": null,
   "metadata": {},
   "outputs": [],
   "source": []
  },
  {
   "cell_type": "code",
   "execution_count": 175,
   "metadata": {},
   "outputs": [],
   "source": [
    "learning_rate = 3e-4\n",
    "num_epochs = 10"
   ]
  },
  {
   "cell_type": "code",
   "execution_count": 176,
   "metadata": {},
   "outputs": [],
   "source": [
    "train_loss = []\n",
    "step_record = []"
   ]
  },
  {
   "cell_type": "code",
   "execution_count": 190,
   "metadata": {},
   "outputs": [],
   "source": [
    "encoder_optimizer = optim.Adam(encoder1.parameters(), lr=learning_rate)\n",
    "decoder_optimizer = optim.Adam(decoder1.parameters(), lr=learning_rate)\n",
    "criterion = nn.NLLLoss()"
   ]
  },
  {
   "cell_type": "code",
   "execution_count": 191,
   "metadata": {},
   "outputs": [],
   "source": [
    "total_step = len(train_loader)"
   ]
  },
  {
   "cell_type": "code",
   "execution_count": 192,
   "metadata": {},
   "outputs": [
    {
     "name": "stdout",
     "output_type": "stream",
     "text": [
      "Epoch: [1/10], Step: [101/543], Train_loss: 29.795711517333984\n",
      "Epoch: [1/10], Step: [201/543], Train_loss: 20.58494758605957\n",
      "Epoch: [1/10], Step: [301/543], Train_loss: 23.46080207824707\n",
      "Epoch: [1/10], Step: [401/543], Train_loss: 16.82011604309082\n",
      "Epoch: [1/10], Step: [501/543], Train_loss: 15.517363548278809\n",
      "Epoch: [2/10], Step: [101/543], Train_loss: 10.40627670288086\n",
      "Epoch: [2/10], Step: [201/543], Train_loss: 12.203824996948242\n",
      "Epoch: [2/10], Step: [301/543], Train_loss: 9.713196754455566\n",
      "Epoch: [2/10], Step: [401/543], Train_loss: 9.016651153564453\n",
      "Epoch: [2/10], Step: [501/543], Train_loss: 8.596887588500977\n",
      "Epoch: [3/10], Step: [101/543], Train_loss: 7.555540084838867\n",
      "Epoch: [3/10], Step: [201/543], Train_loss: 7.271540641784668\n",
      "Epoch: [3/10], Step: [301/543], Train_loss: 5.294902801513672\n",
      "Epoch: [3/10], Step: [401/543], Train_loss: 3.5270192623138428\n",
      "Epoch: [3/10], Step: [501/543], Train_loss: 5.738254070281982\n",
      "Epoch: [4/10], Step: [101/543], Train_loss: 3.3184404373168945\n",
      "Epoch: [4/10], Step: [201/543], Train_loss: 4.737473011016846\n",
      "Epoch: [4/10], Step: [301/543], Train_loss: 3.137277126312256\n",
      "Epoch: [4/10], Step: [401/543], Train_loss: 2.493574619293213\n",
      "Epoch: [4/10], Step: [501/543], Train_loss: 3.376056432723999\n",
      "Epoch: [5/10], Step: [101/543], Train_loss: 3.042954444885254\n",
      "Epoch: [5/10], Step: [201/543], Train_loss: 0.9662663340568542\n",
      "Epoch: [5/10], Step: [301/543], Train_loss: 2.790804624557495\n",
      "Epoch: [5/10], Step: [401/543], Train_loss: 2.179088830947876\n",
      "Epoch: [5/10], Step: [501/543], Train_loss: 1.9622375965118408\n",
      "Epoch: [6/10], Step: [101/543], Train_loss: 2.3654637336730957\n",
      "Epoch: [6/10], Step: [201/543], Train_loss: 2.0677168369293213\n",
      "Epoch: [6/10], Step: [301/543], Train_loss: 1.6101244688034058\n",
      "Epoch: [6/10], Step: [401/543], Train_loss: 1.2812530994415283\n",
      "Epoch: [6/10], Step: [501/543], Train_loss: 1.2421754598617554\n",
      "Epoch: [7/10], Step: [101/543], Train_loss: 1.345174789428711\n",
      "Epoch: [7/10], Step: [201/543], Train_loss: 0.9687763452529907\n",
      "Epoch: [7/10], Step: [301/543], Train_loss: 1.4016474485397339\n",
      "Epoch: [7/10], Step: [401/543], Train_loss: 0.780564546585083\n",
      "Epoch: [7/10], Step: [501/543], Train_loss: 1.1041133403778076\n",
      "Epoch: [8/10], Step: [101/543], Train_loss: 1.0723217725753784\n",
      "Epoch: [8/10], Step: [201/543], Train_loss: 0.4337514340877533\n",
      "Epoch: [8/10], Step: [301/543], Train_loss: 0.6844481229782104\n",
      "Epoch: [8/10], Step: [401/543], Train_loss: 0.6844938397407532\n",
      "Epoch: [8/10], Step: [501/543], Train_loss: 0.6988165974617004\n",
      "Epoch: [9/10], Step: [101/543], Train_loss: 0.7502045035362244\n",
      "Epoch: [9/10], Step: [201/543], Train_loss: 0.2879309356212616\n",
      "Epoch: [9/10], Step: [301/543], Train_loss: 0.19011537730693817\n",
      "Epoch: [9/10], Step: [401/543], Train_loss: 0.1698233187198639\n",
      "Epoch: [9/10], Step: [501/543], Train_loss: 0.2509959936141968\n",
      "Epoch: [10/10], Step: [101/543], Train_loss: 0.3694595694541931\n",
      "Epoch: [10/10], Step: [201/543], Train_loss: 0.5249770283699036\n",
      "Epoch: [10/10], Step: [301/543], Train_loss: 0.09820399433374405\n",
      "Epoch: [10/10], Step: [401/543], Train_loss: 0.33344995975494385\n",
      "Epoch: [10/10], Step: [501/543], Train_loss: 0.08432307839393616\n"
     ]
    }
   ],
   "source": [
    "for epoch in range(num_epochs):\n",
    "    for i, (source, target) in enumerate(train_loader):\n",
    "        encoder1.train()\n",
    "        encoder_optimizer.zero_grad()\n",
    "        decoder1.train()\n",
    "        decoder_optimizer.zero_grad()\n",
    "        # Forward pass\n",
    "        _, hidden = encoder1(source.to(device))\n",
    "        outputs, _ = decoder1(target.to(device), hidden)\n",
    "        loss = 0\n",
    "        \n",
    "        for j in range(target.size()[1]):\n",
    "            loss = loss +criterion(outputs[:,j,:], target.to(device)[:,j])\n",
    "\n",
    "        # Backward and optimize\n",
    "        loss.backward()\n",
    "        encoder_optimizer.step()\n",
    "        decoder_optimizer.step()\n",
    "        # validate every 100 iterations\n",
    "        if i > 0 and i % 100 == 0:\n",
    "            step_record.append( i + epoch * total_step)\n",
    "            print('Epoch: [{}/{}], Step: [{}/{}], Train_loss: {}'.format(\n",
    "                       epoch+1, num_epochs, i+1, len(train_loader), loss))\n",
    "            "
   ]
  },
  {
   "cell_type": "code",
   "execution_count": 181,
   "metadata": {},
   "outputs": [],
   "source": [
    "d_input = data[0].to(device)\n",
    "_, hidden = encoder1(d_input)\n",
    "d_output = data[1].to(device)\n",
    "output, _ = decoder1(d_output, hidden)"
   ]
  },
  {
   "cell_type": "code",
   "execution_count": 227,
   "metadata": {},
   "outputs": [
    {
     "data": {
      "text/plain": [
       "torch.Size([20])"
      ]
     },
     "execution_count": 227,
     "metadata": {},
     "output_type": "execute_result"
    }
   ],
   "source": [
    "data[1][:,1].size()"
   ]
  },
  {
   "cell_type": "code",
   "execution_count": 197,
   "metadata": {},
   "outputs": [
    {
     "data": {
      "text/plain": [
       "torch.Size([20, 11])"
      ]
     },
     "execution_count": 197,
     "metadata": {},
     "output_type": "execute_result"
    }
   ],
   "source": [
    "d_output.size()"
   ]
  },
  {
   "cell_type": "code",
   "execution_count": 183,
   "metadata": {},
   "outputs": [
    {
     "data": {
      "text/plain": [
       "tensor([[   1,    2,    3,  162,  148,  539, 2661,  152, 1277,    4,    2],\n",
       "        [   1,  130,   78,  524,  525, 1252,  574,  545,  130, 1078,    2],\n",
       "        [   1,   14,   40, 2386,  539, 2438,  525, 2439,    4,    2,    0],\n",
       "        [   1,    2,   16,  511,  102,  360, 2739,    4,    2,    0,    0],\n",
       "        [   1,    2,    3,  945,  525,  247, 1897,    4,    2,    0,    0],\n",
       "        [   1,    2,    3,  810,  525,  146, 1258,    4,    2,    0,    0],\n",
       "        [   1,    2,    3, 1103,  709, 1104,    4,    2,    0,    0,    0],\n",
       "        [   1,    2,    3,  148,   42,  462,    4,    2,    0,    0,    0],\n",
       "        [   1,  130,   78,  148,  304,   36,    4,    2,    0,    0,    0],\n",
       "        [   1,    2,   16,  102,  603,    4,    2,    0,    0,    0,    0],\n",
       "        [   1,   77,   78,   31,  239,    4,    2,    0,    0,    0,    0],\n",
       "        [   1,    2,    3,  152,   56,    4,    2,    0,    0,    0,    0],\n",
       "        [   1,    2,    3,  395,  166,    4,    2,    0,    0,    0,    0],\n",
       "        [   1,   75,  423,   72,    4,    2,    0,    0,    0,    0,    0],\n",
       "        [   1,    2,    3,  778,  225,    4,    2,    0,    0,    0,    0],\n",
       "        [   1,  130,   78,  304, 2041,    4,    2,    0,    0,    0,    0],\n",
       "        [   1,   77,   78,  714,  437,    4,    2,    0,    0,    0,    0],\n",
       "        [   1,   75,   40,  421,    4,    2,    0,    0,    0,    0,    0],\n",
       "        [   1,   77,   78,  702,    4,    2,    0,    0,    0,    0,    0],\n",
       "        [   1,  130,   78,   70,    4,    2,    0,    0,    0,    0,    0]],\n",
       "       device='cuda:0')"
      ]
     },
     "execution_count": 183,
     "metadata": {},
     "output_type": "execute_result"
    }
   ],
   "source": [
    "d_output"
   ]
  },
  {
   "cell_type": "code",
   "execution_count": 185,
   "metadata": {},
   "outputs": [
    {
     "data": {
      "text/plain": [
       "torch.Size([20, 11, 2925])"
      ]
     },
     "execution_count": 185,
     "metadata": {},
     "output_type": "execute_result"
    }
   ],
   "source": [
    "prediction = []\n",
    "\n",
    "for i in range(20):\n",
    "    pre_se = [] "
   ]
  },
  {
   "cell_type": "code",
   "execution_count": 193,
   "metadata": {},
   "outputs": [],
   "source": [
    "topv, topi = output.topk(1)\n"
   ]
  },
  {
   "cell_type": "code",
   "execution_count": null,
   "metadata": {},
   "outputs": [],
   "source": [
    "s1 = topi.squeeze().detach() "
   ]
  },
  {
   "cell_type": "code",
   "execution_count": 196,
   "metadata": {},
   "outputs": [
    {
     "data": {
      "text/plain": [
       "torch.Size([20, 11, 1])"
      ]
     },
     "execution_count": 196,
     "metadata": {},
     "output_type": "execute_result"
    }
   ],
   "source": [
    "topi.size()"
   ]
  },
  {
   "cell_type": "code",
   "execution_count": 198,
   "metadata": {},
   "outputs": [
    {
     "data": {
      "text/plain": [
       "tensor([[[1235],\n",
       "         [1774],\n",
       "         [1425],\n",
       "         [1425],\n",
       "         [1425],\n",
       "         [1425],\n",
       "         [1499],\n",
       "         [1499],\n",
       "         [2862],\n",
       "         [1154],\n",
       "         [  76]],\n",
       "\n",
       "        [[ 937],\n",
       "         [1853],\n",
       "         [ 937],\n",
       "         [1716],\n",
       "         [  55],\n",
       "         [  76],\n",
       "         [  76],\n",
       "         [  76],\n",
       "         [2257],\n",
       "         [2257],\n",
       "         [2257]],\n",
       "\n",
       "        [[1235],\n",
       "         [1235],\n",
       "         [1235],\n",
       "         [2658],\n",
       "         [1425],\n",
       "         [  76],\n",
       "         [  76],\n",
       "         [   2],\n",
       "         [1154],\n",
       "         [1154],\n",
       "         [1154]],\n",
       "\n",
       "        [[1235],\n",
       "         [1235],\n",
       "         [ 209],\n",
       "         [1531],\n",
       "         [ 529],\n",
       "         [ 529],\n",
       "         [ 529],\n",
       "         [ 529],\n",
       "         [ 529],\n",
       "         [ 529],\n",
       "         [2021]],\n",
       "\n",
       "        [[1366],\n",
       "         [1440],\n",
       "         [1440],\n",
       "         [1440],\n",
       "         [ 340],\n",
       "         [ 340],\n",
       "         [ 340],\n",
       "         [  76],\n",
       "         [  76],\n",
       "         [ 747],\n",
       "         [2789]],\n",
       "\n",
       "        [[2037],\n",
       "         [  55],\n",
       "         [  69],\n",
       "         [  55],\n",
       "         [  55],\n",
       "         [  76],\n",
       "         [  76],\n",
       "         [  76],\n",
       "         [  76],\n",
       "         [1586],\n",
       "         [ 193]],\n",
       "\n",
       "        [[2650],\n",
       "         [  55],\n",
       "         [  90],\n",
       "         [1349],\n",
       "         [ 340],\n",
       "         [  55],\n",
       "         [1101],\n",
       "         [  76],\n",
       "         [1586],\n",
       "         [1586],\n",
       "         [1586]],\n",
       "\n",
       "        [[1235],\n",
       "         [1235],\n",
       "         [  55],\n",
       "         [ 529],\n",
       "         [1349],\n",
       "         [2862],\n",
       "         [  76],\n",
       "         [  76],\n",
       "         [  76],\n",
       "         [1586],\n",
       "         [ 193]],\n",
       "\n",
       "        [[2037],\n",
       "         [1235],\n",
       "         [1235],\n",
       "         [ 610],\n",
       "         [2398],\n",
       "         [ 529],\n",
       "         [ 529],\n",
       "         [ 529],\n",
       "         [ 598],\n",
       "         [ 598],\n",
       "         [ 598]],\n",
       "\n",
       "        [[1235],\n",
       "         [1235],\n",
       "         [1755],\n",
       "         [  76],\n",
       "         [ 529],\n",
       "         [ 529],\n",
       "         [  76],\n",
       "         [1586],\n",
       "         [1586],\n",
       "         [ 301],\n",
       "         [ 301]],\n",
       "\n",
       "        [[1235],\n",
       "         [1235],\n",
       "         [ 873],\n",
       "         [ 873],\n",
       "         [ 340],\n",
       "         [  76],\n",
       "         [  76],\n",
       "         [  76],\n",
       "         [2257],\n",
       "         [1772],\n",
       "         [ 229]],\n",
       "\n",
       "        [[1235],\n",
       "         [ 537],\n",
       "         [ 423],\n",
       "         [ 340],\n",
       "         [  96],\n",
       "         [  96],\n",
       "         [  76],\n",
       "         [  76],\n",
       "         [1586],\n",
       "         [2114],\n",
       "         [2127]],\n",
       "\n",
       "        [[1235],\n",
       "         [1235],\n",
       "         [ 537],\n",
       "         [1235],\n",
       "         [  96],\n",
       "         [  96],\n",
       "         [  76],\n",
       "         [1586],\n",
       "         [ 529],\n",
       "         [1017],\n",
       "         [2013]],\n",
       "\n",
       "        [[2023],\n",
       "         [2023],\n",
       "         [2023],\n",
       "         [ 340],\n",
       "         [1101],\n",
       "         [  76],\n",
       "         [2077],\n",
       "         [1586],\n",
       "         [2158],\n",
       "         [1958],\n",
       "         [1958]],\n",
       "\n",
       "        [[1235],\n",
       "         [1235],\n",
       "         [ 839],\n",
       "         [2023],\n",
       "         [1355],\n",
       "         [  76],\n",
       "         [  76],\n",
       "         [  76],\n",
       "         [1586],\n",
       "         [1586],\n",
       "         [ 619]],\n",
       "\n",
       "        [[1235],\n",
       "         [1235],\n",
       "         [1235],\n",
       "         [1235],\n",
       "         [1235],\n",
       "         [ 529],\n",
       "         [  76],\n",
       "         [2257],\n",
       "         [2257],\n",
       "         [2257],\n",
       "         [1914]],\n",
       "\n",
       "        [[1235],\n",
       "         [1499],\n",
       "         [1499],\n",
       "         [1499],\n",
       "         [ 873],\n",
       "         [  76],\n",
       "         [  76],\n",
       "         [2585],\n",
       "         [2585],\n",
       "         [2257],\n",
       "         [2257]],\n",
       "\n",
       "        [[2023],\n",
       "         [2023],\n",
       "         [1235],\n",
       "         [ 340],\n",
       "         [ 529],\n",
       "         [  76],\n",
       "         [  76],\n",
       "         [2077],\n",
       "         [2523],\n",
       "         [2523],\n",
       "         [2523]],\n",
       "\n",
       "        [[1235],\n",
       "         [1499],\n",
       "         [1499],\n",
       "         [1499],\n",
       "         [  76],\n",
       "         [  76],\n",
       "         [  76],\n",
       "         [2257],\n",
       "         [2257],\n",
       "         [ 804],\n",
       "         [ 804]],\n",
       "\n",
       "        [[2650],\n",
       "         [1235],\n",
       "         [1235],\n",
       "         [1853],\n",
       "         [  76],\n",
       "         [  76],\n",
       "         [  76],\n",
       "         [2589],\n",
       "         [2589],\n",
       "         [2589],\n",
       "         [2589]]], device='cuda:0')"
      ]
     },
     "execution_count": 198,
     "metadata": {},
     "output_type": "execute_result"
    }
   ],
   "source": [
    "topi"
   ]
  },
  {
   "cell_type": "code",
   "execution_count": null,
   "metadata": {},
   "outputs": [],
   "source": [
    "learning_rate = 3e-4\n",
    "num_epochs = 10 # number epoch to train\n",
    "\n",
    "train_loss = []\n",
    "step_record = []\n",
    "\n",
    "# Criterion and Optimizer\n",
    "criterion = torch.nn.CrossEntropyLoss()\n",
    "optimizer = torch.optim.Adam(model.parameters(), lr=learning_rate)\n",
    "\n",
    "# Train the model\n",
    "total_step = len(train_loader)\n",
    "\n",
    "for epoch in range(num_epochs):\n",
    "    for i, (s1, s2, lengths, labels) in enumerate(train_loader):\n",
    "        model.train()\n",
    "        optimizer.zero_grad()\n",
    "        # Forward pass\n",
    "        outputs = model(s1.to(device), s2.to(device), lengths.to(device))\n",
    "        loss = criterion(outputs, labels.to(device))\n",
    "\n",
    "        # Backward and optimize\n",
    "        loss.backward()\n",
    "        optimizer.step()\n",
    "        # validate every 100 iterations\n",
    "        if i > 0 and i % 300 == 0:\n",
    "            # validate\n",
    "            val_acc, val_loss = test_model2(val_loader, model)\n",
    "            val_acc_record.append(val_acc)\n",
    "            val_loss_record.append(val_loss)\n",
    "            #train_acc, train_loss = test_model2(train_loader, model)\n",
    "            #train_acc_record.append(train_acc)\n",
    "            #train_loss_record.append(train_loss)\n",
    "            step_record.append( i + epoch * total_step)\n",
    "            print('Epoch: [{}/{}], Step: [{}/{}], Val_Acc: {}'.format(\n",
    "                       epoch+1, num_epochs, i+1, len(train_loader), val_acc))\n",
    "            if val_acc > best_val_acc:\n",
    "                with open(model_name, 'wb') as f:\n",
    "                    torch.save(model, f)\n",
    "                    best_val_loss = val_loss\n",
    "\n"
   ]
  },
  {
   "cell_type": "code",
   "execution_count": null,
   "metadata": {},
   "outputs": [],
   "source": []
  },
  {
   "cell_type": "code",
   "execution_count": 23,
   "metadata": {},
   "outputs": [],
   "source": [
    "teacher_forcing_ratio = 0.5\n",
    "\n",
    "\n",
    "def train(input_tensor, target_tensor, encoder, decoder, encoder_optimizer, decoder_optimizer, criterion, max_length=MAX_LENGTH):\n",
    "    encoder_hidden = encoder.initHidden()\n",
    "\n",
    "    encoder_optimizer.zero_grad()\n",
    "    decoder_optimizer.zero_grad()\n",
    "\n",
    "    input_length = input_tensor.size(0)\n",
    "    target_length = target_tensor.size(0)\n",
    "\n",
    "    encoder_outputs = torch.zeros(max_length, encoder.hidden_size, device=device)\n",
    "\n",
    "    loss = 0\n",
    "\n",
    "    for ei in range(input_length):\n",
    "        encoder_output, encoder_hidden = encoder(\n",
    "            input_tensor[ei], encoder_hidden)\n",
    "        encoder_outputs[ei] = encoder_output[0, 0]\n",
    "\n",
    "    decoder_input = torch.tensor([[SOS_token]], device=device)\n",
    "\n",
    "    decoder_hidden = encoder_hidden\n",
    "\n",
    "    use_teacher_forcing = True if random.random() < teacher_forcing_ratio else False\n",
    "\n",
    "    if use_teacher_forcing:\n",
    "        # Teacher forcing: Feed the target as the next input\n",
    "        for di in range(target_length):\n",
    "            decoder_output, decoder_hidden = decoder(\n",
    "                decoder_input, decoder_hidden)\n",
    "            loss += criterion(decoder_output, target_tensor[di])\n",
    "            decoder_input = target_tensor[di]  # Teacher forcing\n",
    "\n",
    "    else:\n",
    "        # Without teacher forcing: use its own predictions as the next input\n",
    "        for di in range(target_length):\n",
    "            decoder_output, decoder_hidden = decoder(\n",
    "                decoder_input, decoder_hidden)\n",
    "            topv, topi = decoder_output.topk(1)\n",
    "            decoder_input = topi.squeeze().detach()  # detach from history as input\n",
    "\n",
    "            loss += criterion(decoder_output, target_tensor[di])\n",
    "            if decoder_input.item() == EOS_token:\n",
    "                break\n",
    "\n",
    "    loss.backward()\n",
    "\n",
    "    encoder_optimizer.step()\n",
    "    decoder_optimizer.step()\n",
    "\n",
    "    return loss.item() / target_length"
   ]
  },
  {
   "cell_type": "code",
   "execution_count": 25,
   "metadata": {},
   "outputs": [],
   "source": [
    "def trainIters(encoder, decoder, n_iters, print_every=1000, plot_every=100, learning_rate=0.01):\n",
    "    start = time.time()\n",
    "    plot_losses = []\n",
    "    print_loss_total = 0  # Reset every print_every\n",
    "    plot_loss_total = 0  # Reset every plot_every\n",
    "\n",
    "    encoder_optimizer = optim.Adam(encoder.parameters(), lr=learning_rate)\n",
    "    decoder_optimizer = optim.Adam(decoder.parameters(), lr=learning_rate)\n",
    "    training_pairs = [tensorsFromPair(random.choice(pairs))\n",
    "                      for i in range(n_iters)]\n",
    "    criterion = nn.NLLLoss()\n",
    "\n",
    "    for iter in range(1, n_iters + 1):\n",
    "        training_pair = training_pairs[iter - 1]\n",
    "        input_tensor = training_pair[0]\n",
    "        target_tensor = training_pair[1]\n",
    "\n",
    "        loss = train(input_tensor, target_tensor, encoder,\n",
    "                     decoder, encoder_optimizer, decoder_optimizer, criterion)\n",
    "        print_loss_total += loss\n",
    "        plot_loss_total += loss\n",
    "\n",
    "        if iter % print_every == 0:\n",
    "            print_loss_avg = print_loss_total / print_every\n",
    "            print_loss_total = 0\n",
    "            print('%s (%d %d%%) %.4f' % (timeSince(start, iter / n_iters),\n",
    "                                         iter, iter / n_iters * 100, print_loss_avg))\n",
    "\n",
    "        if iter % plot_every == 0:\n",
    "            plot_loss_avg = plot_loss_total / plot_every\n",
    "            plot_losses.append(plot_loss_avg)\n",
    "            plot_loss_total = 0\n",
    "\n",
    "    showPlot(plot_losses)"
   ]
  },
  {
   "cell_type": "markdown",
   "metadata": {},
   "source": [
    "Plotting results\n",
    "----------------\n",
    "\n",
    "Plotting is done with matplotlib, using the array of loss values\n",
    "``plot_losses`` saved while training.\n",
    "\n",
    "\n"
   ]
  },
  {
   "cell_type": "code",
   "execution_count": 26,
   "metadata": {},
   "outputs": [],
   "source": [
    "import matplotlib.pyplot as plt\n",
    "plt.switch_backend('agg')\n",
    "import matplotlib.ticker as ticker\n",
    "import numpy as np\n",
    "%matplotlib inline\n",
    "\n",
    "def showPlot(points):\n",
    "    plt.figure()\n",
    "    fig, ax = plt.subplots()\n",
    "    # this locator puts ticks at regular intervals\n",
    "    loc = ticker.MultipleLocator(base=0.2)\n",
    "    ax.yaxis.set_major_locator(loc)\n",
    "    plt.plot(points)"
   ]
  },
  {
   "cell_type": "markdown",
   "metadata": {},
   "source": [
    "Evaluation\n",
    "==========\n",
    "\n",
    "Evaluation is mostly the same as training, but there are no targets so\n",
    "we simply feed the decoder's predictions back to itself for each step.\n",
    "Every time it predicts a word we add it to the output string, and if it\n",
    "predicts the EOS token we stop there. We also store the decoder's\n",
    "attention outputs for display later.\n",
    "\n",
    "\n"
   ]
  },
  {
   "cell_type": "code",
   "execution_count": 27,
   "metadata": {},
   "outputs": [],
   "source": [
    "def evaluate(encoder, decoder, sentence, max_length=MAX_LENGTH):\n",
    "    \"\"\"\n",
    "    Function that generate translation.\n",
    "    First, feed the source sentence into the encoder and obtain the hidden states from encoder.\n",
    "    Secondly, feed the hidden states into the decoder and unfold the outputs from the decoder.\n",
    "    Lastly, for each outputs from the decoder, collect the corresponding words in the target language's vocabulary.\n",
    "    And collect the attention for each output words.\n",
    "    @param encoder: the encoder network\n",
    "    @param decoder: the decoder network\n",
    "    @param sentence: string, a sentence in source language to be translated\n",
    "    @param max_length: the max # of words that the decoder can return\n",
    "    @output decoded_words: a list of words in target language\n",
    "    @output decoder_attentions: a list of vector, each of which sums up to 1.0\n",
    "    \"\"\"    \n",
    "    # process input sentence\n",
    "    with torch.no_grad():\n",
    "        input_tensor = tensorFromSentence(input_lang, sentence)\n",
    "        input_length = input_tensor.size()[0]\n",
    "        # encode the source lanugage\n",
    "        encoder_hidden = encoder.initHidden()\n",
    "\n",
    "        encoder_outputs = torch.zeros(max_length, encoder.hidden_size, device=device)\n",
    "\n",
    "        for ei in range(input_length):\n",
    "            encoder_output, encoder_hidden = encoder(input_tensor[ei],\n",
    "                                                     encoder_hidden)\n",
    "            encoder_outputs[ei] += encoder_output[0, 0]\n",
    "\n",
    "        decoder_input = torch.tensor([[SOS_token]], device=device)  # SOS\n",
    "        # decode the context vector\n",
    "        decoder_hidden = encoder_hidden # decoder starts from the last encoding sentence\n",
    "        # output of this function\n",
    "        decoded_words = []\n",
    "        decoder_attentions = torch.zeros(max_length, max_length)\n",
    "\n",
    "        for di in range(max_length):\n",
    "            # for each time step, the decoder network takes two inputs: previous outputs and the previous hidden states\n",
    "            decoder_output, decoder_hidden, decoder_attention = decoder(\n",
    "                decoder_input, decoder_hidden, encoder_outputs)\n",
    "            \n",
    "            # hint: print out decoder_output and decoder_attention\n",
    "            # TODO: add your code here to populate decoded_words and decoder_attentions\n",
    "            # TODO: do this in 2 ways discussed in class: greedy & beam_search\n",
    "            decoder_attentions[di] = decoder_attention.data\n",
    "            topv, topi = decoder_output.data.topk(1)\n",
    "            if topi.item() == EOS_token:\n",
    "                decoded_words.append('<EOS>')\n",
    "                break\n",
    "            else:\n",
    "                decoded_words.append(output_lang.index2word[topi.item()])\n",
    "            \n",
    "            # END TO DO\n",
    "            \n",
    "            decoder_input = topi.squeeze().detach()\n",
    "\n",
    "        return decoded_words, decoder_attentions[:di + 1]"
   ]
  },
  {
   "cell_type": "markdown",
   "metadata": {},
   "source": [
    "We can evaluate random sentences from the training set and print out the\n",
    "input, target, and output to make some subjective quality judgements:\n",
    "\n",
    "\n"
   ]
  },
  {
   "cell_type": "code",
   "execution_count": 28,
   "metadata": {},
   "outputs": [],
   "source": [
    "def evaluateRandomly(encoder, decoder, n=10):\n",
    "    \"\"\"\n",
    "    Randomly select a English sentence from the dataset and try to produce its French translation.\n",
    "    Note that you need a correct implementation of evaluate() in order to make this function work.\n",
    "    \"\"\"    \n",
    "    for i in range(n):\n",
    "        pair = random.choice(pairs)\n",
    "        print('>', pair[0])\n",
    "        print('=', pair[1])\n",
    "        output_words, attentions = evaluate(encoder, decoder, pair[0])\n",
    "        output_sentence = ' '.join(output_words)\n",
    "        print('<', output_sentence)\n",
    "        print('')"
   ]
  },
  {
   "cell_type": "markdown",
   "metadata": {},
   "source": [
    "Training and Evaluating\n",
    "=======================\n",
    "\n",
    "With all these helper functions in place (it looks like extra work, but\n",
    "it makes it easier to run multiple experiments) we can actually\n",
    "initialize a network and start training.\n",
    "\n",
    "Remember that the input sentences were heavily filtered. For this small\n",
    "dataset we can use relatively small networks of 256 hidden nodes and a\n",
    "single GRU layer. After about 40 minutes on a MacBook CPU we'll get some\n",
    "reasonable results.\n",
    "\n",
    ".. Note::\n",
    "   If you run this notebook you can train, interrupt the kernel,\n",
    "   evaluate, and continue training later. Comment out the lines where the\n",
    "   encoder and decoder are initialized and run ``trainIters`` again.\n",
    "\n",
    "\n"
   ]
  },
  {
   "cell_type": "code",
   "execution_count": null,
   "metadata": {},
   "outputs": [],
   "source": [
    "hidden_size = 256\n",
    "encoder1 = EncoderRNN(input_lang.n_words, hidden_size).to(device)\n",
    "# attn_decoder1 = AttnDecoderRNN(hidden_size, output_lang.n_words, dropout_p=0.1).to(device)\n",
    "#attn_decoder1 = BahdanauAttnDecoderRNN(hidden_size, output_lang.n_words, n_layers=1, dropout_p=0.1).to(device)\n",
    "decoder1 = DecoderRNN(hidden_size, output_lang.n_words).to(device)\n",
    "\n",
    "##UNCOMMENT TO TRAIN THE MODEL\n",
    "trainIters(encoder1, decoder1, 75000, print_every=5000)\n",
    "\n",
    "encoder1.load_state_dict(torch.load(\"encoder.pth\"))\n",
    "attn_decoder1.load_state_dict(torch.load(\"attn_decoder.pth\"))"
   ]
  },
  {
   "cell_type": "code",
   "execution_count": 54,
   "metadata": {
    "collapsed": true
   },
   "outputs": [],
   "source": [
    "torch.save(encoder1.state_dict(), \"encoder.pth\")\n",
    "torch.save(attn_decoder1.state_dict(), \"attn_decoder.pth\")"
   ]
  },
  {
   "cell_type": "code",
   "execution_count": 26,
   "metadata": {},
   "outputs": [
    {
     "name": "stdout",
     "output_type": "stream",
     "text": [
      "> il joue avec mon chat .\n",
      "= he s playing with my cat .\n",
      "< he s playing with my cat . <EOS>\n",
      "\n",
      "> il est tres deprime .\n",
      "= he is very depressed .\n",
      "< he s very depressed . <EOS>\n",
      "\n",
      "> vous etes tous a moi .\n",
      "= you re all mine .\n",
      "< you re all mine . <EOS>\n",
      "\n",
      "> tu es la meilleure .\n",
      "= you re the best .\n",
      "< you re the greatest . <EOS>\n",
      "\n",
      "> je ne vais pas porter ca .\n",
      "= i m not wearing this .\n",
      "< i m not telling this . <EOS>\n",
      "\n",
      "> on est dans les clous .\n",
      "= we re on schedule .\n",
      "< we re on . <EOS>\n",
      "\n",
      "> j aime skier .\n",
      "= i am fond of skiing .\n",
      "< i m fond of them . <EOS>\n",
      "\n",
      "> vous n y etes pas bonnes .\n",
      "= you re not good at this .\n",
      "< you re not at good this . <EOS>\n",
      "\n",
      "> nous sommes tres excites .\n",
      "= we re very excited .\n",
      "< we re very excited . <EOS>\n",
      "\n",
      "> je ramene une pizza a la maison .\n",
      "= i m bringing home a pizza .\n",
      "< i m seeing home home home . <EOS>\n",
      "\n"
     ]
    }
   ],
   "source": [
    "evaluateRandomly(encoder1, attn_decoder1)"
   ]
  },
  {
   "cell_type": "markdown",
   "metadata": {},
   "source": [
    "Visualizing Attention\n",
    "---------------------\n",
    "\n",
    "A useful property of the attention mechanism is its highly interpretable\n",
    "outputs. Because it is used to weight specific encoder outputs of the\n",
    "input sequence, we can imagine looking where the network is focused most\n",
    "at each time step."
   ]
  },
  {
   "cell_type": "code",
   "execution_count": 38,
   "metadata": {},
   "outputs": [
    {
     "name": "stdout",
     "output_type": "stream",
     "text": [
      "input = elle a cinq ans de moins que moi .\n",
      "output = she is six years older than me . <EOS>\n"
     ]
    },
    {
     "data": {
      "image/png": "[encoded data removed]",
      "text/plain": [
       "<matplotlib.figure.Figure at 0x11cc35240>"
      ]
     },
     "metadata": {},
     "output_type": "display_data"
    },
    {
     "name": "stdout",
     "output_type": "stream",
     "text": [
      "input = elle est trop petit .\n",
      "output = she is too fat . <EOS>\n"
     ]
    },
    {
     "data": {
      "image/png": "[encoded data removed]",
      "text/plain": [
       "<matplotlib.figure.Figure at 0x11cc35710>"
      ]
     },
     "metadata": {},
     "output_type": "display_data"
    },
    {
     "name": "stdout",
     "output_type": "stream",
     "text": [
      "input = je ne crains pas de mourir .\n",
      "output = i m not afraid to die . <EOS>\n"
     ]
    },
    {
     "data": {
      "image/png": "[encoded data removed]",
      "text/plain": [
       "<matplotlib.figure.Figure at 0x11f59ef98>"
      ]
     },
     "metadata": {},
     "output_type": "display_data"
    },
    {
     "name": "stdout",
     "output_type": "stream",
     "text": [
      "input = c est un jeune directeur plein de talent .\n",
      "output = he s a lovely young young . <EOS>\n"
     ]
    },
    {
     "data": {
      "image/png": "[encoded data removed]",
      "text/plain": [
       "<matplotlib.figure.Figure at 0x11cf3de80>"
      ]
     },
     "metadata": {},
     "output_type": "display_data"
    }
   ],
   "source": [
    "def showAttention(input_sentence, output_words, attentions):\n",
    "    \"\"\"\n",
    "    Function that takes in attention and visualize the attention.\n",
    "    @param - input_sentence: string the represent a list of words from source language\n",
    "    @param - output_words: the gold translation in target language\n",
    "    @param - attentions: a numpy array\n",
    "    \"\"\"\n",
    "    # Set up figure with colorbar    \n",
    "\n",
    "    fig = plt.figure()\n",
    "    ax = fig.add_subplot(111)\n",
    "    \n",
    "    # TODO: Add your code here to visualize the attention\n",
    "    # look at documentation for imshow https://matplotlib.org/api/_as_gen/matplotlib.axes.Axes.matshow.html\n",
    "\n",
    "    # Set up axes\n",
    "    ax.set_xticklabels([''] + input_sentence.split(' ') +\n",
    "                       ['<EOS>'], rotation=90)\n",
    "    ax.set_yticklabels([''] + output_words)\n",
    "\n",
    "    # Show label at every tick\n",
    "    ax.xaxis.set_major_locator(ticker.MultipleLocator(1))\n",
    "    ax.yaxis.set_major_locator(ticker.MultipleLocator(1))\n",
    "\n",
    "    plt.show()\n",
    "\n",
    "\n",
    "def evaluateAndShowAttention(input_sentence):\n",
    "    output_words, attentions = evaluate(\n",
    "        encoder1, attn_decoder1, input_sentence)\n",
    "    print('input =', input_sentence)\n",
    "    print('output =', ' '.join(output_words))\n",
    "    showAttention(input_sentence, output_words, attentions)\n",
    "\n",
    "\n",
    "evaluateAndShowAttention(\"elle a cinq ans de moins que moi .\")\n",
    "\n",
    "evaluateAndShowAttention(\"elle est trop petit .\")\n",
    "\n",
    "evaluateAndShowAttention(\"je ne crains pas de mourir .\")\n",
    "\n",
    "evaluateAndShowAttention(\"c est un jeune directeur plein de talent .\")"
   ]
  },
  {
   "cell_type": "markdown",
   "metadata": {},
   "source": [
    "Take-home Questions\n",
    "---------------------\n",
    "1. We used randomized initialization for word embedding. What's the advantage of using pre-trained embedding for initialization? Think about rare word.\n",
    "\n",
    "2. Which lines of code tell the decoder to stop generate output tokens?\n",
    "\n",
    "3. What's different in the training process when use_teacher_forcing is activated versus not activated?\n",
    "\n",
    "4. What's the loss we used when use_teacher_forcing mode is NOT activated? Is it a reasonable loss? Why?\n",
    "\n",
    "5. In the forward() function of AttnDecoder class, attention is computed for each output on all hidden states of source inputs. All source hidden states are stored in variable encoder_outputs. Did we directly use encoder_outputs when we compute attn_weights? If no, which variable gives information about all the source hidden states in the computation of attention weights?\n"
   ]
  },
  {
   "cell_type": "code",
   "execution_count": null,
   "metadata": {
    "collapsed": true
   },
   "outputs": [],
   "source": []
  }
 ],
 "metadata": {
  "kernelspec": {
   "display_name": "Python 3",
   "language": "python",
   "name": "python3"
  },
  "language_info": {
   "codemirror_mode": {
    "name": "ipython",
    "version": 3
   },
   "file_extension": ".py",
   "mimetype": "text/x-python",
   "name": "python",
   "nbconvert_exporter": "python",
   "pygments_lexer": "ipython3",
   "version": "3.6.3"
  }
 },
 "nbformat": 4,
 "nbformat_minor": 2
}
